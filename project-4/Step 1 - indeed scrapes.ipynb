{
 "cells": [
  {
   "cell_type": "markdown",
   "metadata": {},
   "source": [
    "### QUESTION 1: Factors that impact salary\n",
    "\n",
    "To predict salary you will be building either a classification or regression model, using features like the location, title, and summary of the job. If framing this as a regression problem, you will be estimating the listed salary amounts. You may instead choose to frame this as a classification problem, in which case you will create labels from these salaries (high vs. low salary, for example) according to thresholds (such as median salary).\n",
    "\n",
    "You have learned a variety of new skills and models that may be useful for this problem:\n",
    "- NLP\n",
    "- Unsupervised learning and dimensionality reduction techniques (PCA, clustering)\n",
    "- Ensemble methods and decision tree models\n",
    "- SVM models\n",
    "\n",
    "Whatever you decide to use, the most important thing is to justify your choices and interpret your results. *Communication of your process is key.* Note that most listings **DO NOT** come with salary information. You'll need to able to extrapolate or predict the expected salaries for these listings."
   ]
  },
  {
   "cell_type": "markdown",
   "metadata": {},
   "source": [
    "### 1) Inspect the elements of this page to confirm we can find all of the information we're interested in."
   ]
  },
  {
   "cell_type": "markdown",
   "metadata": {},
   "source": [
    "### 2) Use `urllib` and `BeautifulSoup` to read the contents of the HTML."
   ]
  },
  {
   "cell_type": "code",
   "execution_count": 29,
   "metadata": {
    "scrolled": true
   },
   "outputs": [],
   "source": [
    "from bs4 import BeautifulSoup\n",
    "import urllib\n",
    "import urllib.parse\n",
    "from time import sleep\n",
    "import pandas as pd\n"
   ]
  },
  {
   "cell_type": "code",
   "execution_count": 30,
   "metadata": {},
   "outputs": [
    {
     "name": "stdout",
     "output_type": "stream",
     "text": [
      "https://www.indeed.com.sg/jobs?q=Business+Analyst&l=Singapore&jt=\n"
     ]
    }
   ],
   "source": [
    "# Set the URL we want to visit.\n",
    "searchstr = \"Business Analyst\"\n",
    "plus = searchstr.replace(\" \", '+')\n",
    "location = \"Singapore\"\n",
    "jtype = \"\"  # \"fulltime\", \"permanent\", \"contract\",\"internship\", \"temporary\", \"parttime\"\n",
    "baseurl = \"https://www.indeed.com.sg\"\n",
    "url = baseurl + \"/jobs?q={}&l={}&jt={}\".format(plus, location, jtype)\n",
    "print(url)\n"
   ]
  },
  {
   "cell_type": "code",
   "execution_count": 31,
   "metadata": {},
   "outputs": [],
   "source": [
    "# Visit the URL and grab the HTML of the page.\n",
    "html = urllib.request.urlopen(url).read()\n",
    "# We need to convert this into a soup object.\n",
    "soup = BeautifulSoup(html, 'html.parser', from_encoding=\"utf-8\")\n"
   ]
  },
  {
   "cell_type": "markdown",
   "metadata": {},
   "source": [
    "### 5) Extract the html link to each job\n",
    "\n"
   ]
  },
  {
   "cell_type": "markdown",
   "metadata": {},
   "source": [
    "**investigate how to find link to 'next' page**\n"
   ]
  },
  {
   "cell_type": "code",
   "execution_count": 32,
   "metadata": {},
   "outputs": [
    {
     "data": {
      "text/plain": [
       "'https://www.indeed.com.sg/jobs?q=Business+Analyst&l=Singapore&jt=&start=40'"
      ]
     },
     "execution_count": 32,
     "metadata": {},
     "output_type": "execute_result"
    }
   ],
   "source": [
    "# there are 10 entries on each page. so, if we are on page one, the next page 'starts with' 10.\n",
    "# therefore if on page n, next page starts with 'n x 10' entries\n",
    "nextpg = url+\"&start=40\"\n",
    "nextpg"
   ]
  },
  {
   "cell_type": "markdown",
   "metadata": {},
   "source": [
    "**write loop to extract all links**"
   ]
  },
  {
   "cell_type": "code",
   "execution_count": 33,
   "metadata": {},
   "outputs": [],
   "source": [
    "links = []\n",
    "for i in range(1,500):\n",
    "    # after examining html, determined that class:jobtitle is unique to job entry\n",
    "    hits = soup.find_all('h2', {\"class\":\"jobtitle\"})\n",
    "    # the url we want is within the text extracted (inside a element)\n",
    "    for hit in hits:\n",
    "        h = urllib.parse.urljoin(url, hit.find(\"a\")['href'])\n",
    "        links.append(h)\n",
    "    \n",
    "    # construct url for next page\n",
    "    \n",
    "    nextpg = url+\"&start={}\".format(i*10)\n",
    "    #print(nextpg)\n",
    "    # open and read next page into BS4\n",
    "    html = urllib.request.urlopen(nextpg).read()\n",
    "    #sleep(1)\n",
    "    \n",
    "    #reinitialize soup object to new page\n",
    "    soup = BeautifulSoup(html, 'html.parser', from_encoding=\"utf-8\")"
   ]
  },
  {
   "cell_type": "code",
   "execution_count": 34,
   "metadata": {},
   "outputs": [
    {
     "data": {
      "text/plain": [
       "4990"
      ]
     },
     "execution_count": 34,
     "metadata": {},
     "output_type": "execute_result"
    }
   ],
   "source": [
    "# let's check out number of items in links\n",
    "len(links)"
   ]
  },
  {
   "cell_type": "code",
   "execution_count": 35,
   "metadata": {},
   "outputs": [
    {
     "data": {
      "text/plain": [
       "['https://www.indeed.com.sg/rc/clk?jk=ec5934f649cbf86d&fccid=a4e4e2eaf26690c9&vjs=3',\n",
       " 'https://www.indeed.com.sg/rc/clk?jk=847dc76922d52115&fccid=216eb700022de6f6&vjs=3',\n",
       " 'https://www.indeed.com.sg/company/Carecone-Technologies/jobs/Business-Analyst-9d4ecfc9e405881d?fccid=d0ab2a8c843ca2df&vjs=3',\n",
       " 'https://www.indeed.com.sg/rc/clk?jk=89d35853db917c9a&fccid=10b5c722d846df43&vjs=3',\n",
       " 'https://www.indeed.com.sg/company/Consumer-Cloud-Technology-Services/jobs/Junior-Business-Analyst-fa48f3dfd37a8185?fccid=aa0ccaeee49d1a69&vjs=3']"
      ]
     },
     "execution_count": 35,
     "metadata": {},
     "output_type": "execute_result"
    }
   ],
   "source": [
    "links[:5]"
   ]
  },
  {
   "cell_type": "markdown",
   "metadata": {},
   "source": [
    "###  now let's write a loop to extract all the info we want and stick it into pandas"
   ]
  },
  {
   "cell_type": "code",
   "execution_count": 36,
   "metadata": {},
   "outputs": [],
   "source": [
    "# if extracting in batches grey out datadict = [] after initial run. \n",
    "datadict = []"
   ]
  },
  {
   "cell_type": "code",
   "execution_count": 37,
   "metadata": {},
   "outputs": [
    {
     "name": "stdout",
     "output_type": "stream",
     "text": [
      "500\n",
      "404\n",
      "500\n",
      "500\n"
     ]
    }
   ],
   "source": [
    "for i in links:\n",
    "    try:\n",
    "        readurl = urllib.request.urlopen(i).read()\n",
    "        \n",
    "    except urllib.error.HTTPError as err:\n",
    "        print(err.code)\n",
    "        continue\n",
    "\n",
    "    #reinitialize soup object to new page\n",
    "    soup2 = BeautifulSoup(readurl, 'html.parser', from_encoding=\"utf-8\")\n",
    "    \n",
    "    # extracting info\n",
    "    entry ={}\n",
    "    #entry['jobid'] = 'jobid'\n",
    "    entry['url'] = i\n",
    "    entry['searchstring'] = searchstr\n",
    "    entry['location'] = location\n",
    "    try:\n",
    "        entry['jobtitle'] = soup2.find('h3', {\"class\":\"icl-u-xs-mb--xs icl-u-xs-mt--none jobsearch-JobInfoHeader-title\"}).text\n",
    "    except:\n",
    "        entry['jobtitle'] = None\n",
    "    try:\n",
    "        entry['advertiser'] = soup2.find('div', {\"class\":\"icl-u-lg-mr--sm icl-u-xs-mr--xs\"}).text\n",
    "    except:\n",
    "        entry['advertiser'] = None\n",
    "    try:\n",
    "        entry['jd'] = soup2.find('div', {\"class\":\"jobsearch-JobComponent-description icl-u-xs-mt--md\"}).text\n",
    "    except:\n",
    "        entry['jd'] = None\n",
    "    try:\n",
    "        ojob = soup2.find('span', {\"id\":\"originalJobLinkContainer\"})\n",
    "        entry['ojoblink'] = ojob.find('a')['href']\n",
    "    except:\n",
    "        entry['ojoblink'] = None\n",
    "    try:\n",
    "        elapsed = soup2.find('div', {\"class\":\"jobsearch-JobMetadataFooter\"}).text\n",
    "        entry['elapsed'] = elapsed.split('-')[1].strip()\n",
    "    except:\n",
    "        entry['elapsed'] = None\n",
    "    try:\n",
    "        entry['source'] = soup2.find('span', {\"icl-u-textColor--success\"}).text\n",
    "    except:\n",
    "        entry['source'] = None\n",
    "    try:\n",
    "        entry['salary'] = soup2.find('span', {\"class\":\"icl-u-xs-mr--xs\"}).text\n",
    "    except:\n",
    "        entry['salary'] = None\n",
    "    try:\n",
    "        entry['jobtype'] = soup2.find('div', {\"class\":\"jobsearch-JobMetadataHeader-item icl-u-xs-mt--xs\"}).text\n",
    "    except:\n",
    "        entry['jobtype'] = None\n",
    "    datadict.append(entry)\n",
    "    "
   ]
  },
  {
   "cell_type": "code",
   "execution_count": 38,
   "metadata": {},
   "outputs": [
    {
     "data": {
      "text/plain": [
       "4986"
      ]
     },
     "execution_count": 38,
     "metadata": {},
     "output_type": "execute_result"
    }
   ],
   "source": [
    "len(datadict)"
   ]
  },
  {
   "cell_type": "code",
   "execution_count": 39,
   "metadata": {},
   "outputs": [
    {
     "data": {
      "text/html": [
       "<div>\n",
       "<style scoped>\n",
       "    .dataframe tbody tr th:only-of-type {\n",
       "        vertical-align: middle;\n",
       "    }\n",
       "\n",
       "    .dataframe tbody tr th {\n",
       "        vertical-align: top;\n",
       "    }\n",
       "\n",
       "    .dataframe thead th {\n",
       "        text-align: right;\n",
       "    }\n",
       "</style>\n",
       "<table border=\"1\" class=\"dataframe\">\n",
       "  <thead>\n",
       "    <tr style=\"text-align: right;\">\n",
       "      <th></th>\n",
       "      <th>advertiser</th>\n",
       "      <th>elapsed</th>\n",
       "      <th>jd</th>\n",
       "      <th>jobtitle</th>\n",
       "      <th>jobtype</th>\n",
       "      <th>location</th>\n",
       "      <th>ojoblink</th>\n",
       "      <th>salary</th>\n",
       "      <th>searchstring</th>\n",
       "      <th>source</th>\n",
       "      <th>url</th>\n",
       "    </tr>\n",
       "  </thead>\n",
       "  <tbody>\n",
       "    <tr>\n",
       "      <th>1085</th>\n",
       "      <td>TELEDIRECT PTE LTD</td>\n",
       "      <td>6 days ago</td>\n",
       "      <td>PermanentRoles &amp; Responsibilities\\nAs a Schedu...</td>\n",
       "      <td>Scheduling Analyst</td>\n",
       "      <td>Permanent</td>\n",
       "      <td>Singapore</td>\n",
       "      <td>https://www.indeed.com.sg/rc/clk?jk=b788fbe02e...</td>\n",
       "      <td>None</td>\n",
       "      <td>Business Analyst</td>\n",
       "      <td>MyCareersFuture.SG</td>\n",
       "      <td>https://www.indeed.com.sg/rc/clk?jk=b788fbe02e...</td>\n",
       "    </tr>\n",
       "    <tr>\n",
       "      <th>2854</th>\n",
       "      <td>MSD</td>\n",
       "      <td>30+ days ago</td>\n",
       "      <td>The Senior Specialist Ops Lead is responsible ...</td>\n",
       "      <td>IT Snr Specialist Ops Lead</td>\n",
       "      <td>None</td>\n",
       "      <td>Singapore</td>\n",
       "      <td>https://www.indeed.com.sg/rc/clk?jk=792cb07197...</td>\n",
       "      <td>None</td>\n",
       "      <td>Business Analyst</td>\n",
       "      <td>MSD</td>\n",
       "      <td>https://www.indeed.com.sg/rc/clk?jk=792cb07197...</td>\n",
       "    </tr>\n",
       "    <tr>\n",
       "      <th>1738</th>\n",
       "      <td>Mercer</td>\n",
       "      <td>30+ days ago</td>\n",
       "      <td>An opportunity to work for a market leader\\nWo...</td>\n",
       "      <td>Global Mobility Analyst</td>\n",
       "      <td>None</td>\n",
       "      <td>Singapore</td>\n",
       "      <td>https://www.indeed.com.sg/rc/clk?jk=96be90325f...</td>\n",
       "      <td>None</td>\n",
       "      <td>Business Analyst</td>\n",
       "      <td>Marsh &amp; McLennan Companies</td>\n",
       "      <td>https://www.indeed.com.sg/rc/clk?jk=96be90325f...</td>\n",
       "    </tr>\n",
       "    <tr>\n",
       "      <th>4581</th>\n",
       "      <td>Power IT Consultancy</td>\n",
       "      <td>30+ days ago</td>\n",
       "      <td>PermanentJob Location : Singapore Job Type : P...</td>\n",
       "      <td>Business Analyst - Calypso</td>\n",
       "      <td>Permanent</td>\n",
       "      <td>Singapore</td>\n",
       "      <td>https://www.indeed.com.sg/rc/clk?jk=c88932d8ad...</td>\n",
       "      <td>None</td>\n",
       "      <td>Business Analyst</td>\n",
       "      <td>Power IT Consultancy</td>\n",
       "      <td>https://www.indeed.com.sg/rc/clk?jk=c88932d8ad...</td>\n",
       "    </tr>\n",
       "    <tr>\n",
       "      <th>295</th>\n",
       "      <td>SINGAPORE EXCHANGE LIMITED</td>\n",
       "      <td>8 days ago</td>\n",
       "      <td>Roles &amp; Responsibilities\\nKey Accountabilities...</td>\n",
       "      <td>Business Analyst</td>\n",
       "      <td>None</td>\n",
       "      <td>Singapore</td>\n",
       "      <td>https://www.indeed.com.sg/rc/clk?jk=3e2ed800fa...</td>\n",
       "      <td>None</td>\n",
       "      <td>Business Analyst</td>\n",
       "      <td>MyCareersFuture.SG</td>\n",
       "      <td>https://www.indeed.com.sg/rc/clk?jk=3e2ed800fa...</td>\n",
       "    </tr>\n",
       "    <tr>\n",
       "      <th>37</th>\n",
       "      <td>Techsource Systems Pte Ltd</td>\n",
       "      <td>save job</td>\n",
       "      <td>$3,000 - $6,000 a monthThe Business Analyst pl...</td>\n",
       "      <td>Business Systems Analyst</td>\n",
       "      <td>None</td>\n",
       "      <td>Singapore</td>\n",
       "      <td>None</td>\n",
       "      <td>$3,000 - $6,000 a month</td>\n",
       "      <td>Business Analyst</td>\n",
       "      <td>None</td>\n",
       "      <td>https://www.indeed.com.sg/company/TechSource-S...</td>\n",
       "    </tr>\n",
       "    <tr>\n",
       "      <th>4363</th>\n",
       "      <td>Sciente</td>\n",
       "      <td>21 days ago</td>\n",
       "      <td>Exciting career opportunity for Business Analy...</td>\n",
       "      <td>Business Analyst (Murex)</td>\n",
       "      <td>None</td>\n",
       "      <td>Singapore</td>\n",
       "      <td>None</td>\n",
       "      <td>None</td>\n",
       "      <td>Business Analyst</td>\n",
       "      <td>Sciente</td>\n",
       "      <td>https://www.indeed.com.sg/rc/clk?jk=7498502484...</td>\n",
       "    </tr>\n",
       "    <tr>\n",
       "      <th>2218</th>\n",
       "      <td>CCN Hub</td>\n",
       "      <td>30+ days ago</td>\n",
       "      <td>Software Analyst\\n\\n\\n\\nTechnical Requirements...</td>\n",
       "      <td>SOFTWARE ANALYST</td>\n",
       "      <td>None</td>\n",
       "      <td>Singapore</td>\n",
       "      <td>https://www.indeed.com.sg/rc/clk?jk=b90d99f056...</td>\n",
       "      <td>None</td>\n",
       "      <td>Business Analyst</td>\n",
       "      <td>CCN Hub</td>\n",
       "      <td>https://www.indeed.com.sg/rc/clk?jk=b90d99f056...</td>\n",
       "    </tr>\n",
       "    <tr>\n",
       "      <th>94</th>\n",
       "      <td>Singapore LNG Corporation Pte Ltd</td>\n",
       "      <td>12 days ago</td>\n",
       "      <td>The successful candidate will liaise closely w...</td>\n",
       "      <td>Business Process Analyst</td>\n",
       "      <td>None</td>\n",
       "      <td>Singapore</td>\n",
       "      <td>https://www.indeed.com.sg/rc/clk?jk=02115dfa11...</td>\n",
       "      <td>None</td>\n",
       "      <td>Business Analyst</td>\n",
       "      <td>Singapore LNG Corporation Pte Ltd</td>\n",
       "      <td>https://www.indeed.com.sg/rc/clk?jk=02115dfa11...</td>\n",
       "    </tr>\n",
       "    <tr>\n",
       "      <th>40</th>\n",
       "      <td>ECnet Limited</td>\n",
       "      <td>save job</td>\n",
       "      <td>$4,000 - $6,000 a monthYou will be working col...</td>\n",
       "      <td>IT Business Analyst (PERM)</td>\n",
       "      <td>None</td>\n",
       "      <td>Singapore</td>\n",
       "      <td>None</td>\n",
       "      <td>$4,000 - $6,000 a month</td>\n",
       "      <td>Business Analyst</td>\n",
       "      <td>None</td>\n",
       "      <td>https://www.indeed.com.sg/company/R-Systems/jo...</td>\n",
       "    </tr>\n",
       "  </tbody>\n",
       "</table>\n",
       "</div>"
      ],
      "text/plain": [
       "                             advertiser       elapsed  \\\n",
       "1085                 TELEDIRECT PTE LTD    6 days ago   \n",
       "2854                                MSD  30+ days ago   \n",
       "1738                             Mercer  30+ days ago   \n",
       "4581               Power IT Consultancy  30+ days ago   \n",
       "295          SINGAPORE EXCHANGE LIMITED    8 days ago   \n",
       "37           Techsource Systems Pte Ltd      save job   \n",
       "4363                            Sciente   21 days ago   \n",
       "2218                            CCN Hub  30+ days ago   \n",
       "94    Singapore LNG Corporation Pte Ltd   12 days ago   \n",
       "40                        ECnet Limited      save job   \n",
       "\n",
       "                                                     jd  \\\n",
       "1085  PermanentRoles & Responsibilities\\nAs a Schedu...   \n",
       "2854  The Senior Specialist Ops Lead is responsible ...   \n",
       "1738  An opportunity to work for a market leader\\nWo...   \n",
       "4581  PermanentJob Location : Singapore Job Type : P...   \n",
       "295   Roles & Responsibilities\\nKey Accountabilities...   \n",
       "37    $3,000 - $6,000 a monthThe Business Analyst pl...   \n",
       "4363  Exciting career opportunity for Business Analy...   \n",
       "2218  Software Analyst\\n\\n\\n\\nTechnical Requirements...   \n",
       "94    The successful candidate will liaise closely w...   \n",
       "40    $4,000 - $6,000 a monthYou will be working col...   \n",
       "\n",
       "                        jobtitle    jobtype   location  \\\n",
       "1085          Scheduling Analyst  Permanent  Singapore   \n",
       "2854  IT Snr Specialist Ops Lead       None  Singapore   \n",
       "1738     Global Mobility Analyst       None  Singapore   \n",
       "4581  Business Analyst - Calypso  Permanent  Singapore   \n",
       "295             Business Analyst       None  Singapore   \n",
       "37      Business Systems Analyst       None  Singapore   \n",
       "4363    Business Analyst (Murex)       None  Singapore   \n",
       "2218            SOFTWARE ANALYST       None  Singapore   \n",
       "94      Business Process Analyst       None  Singapore   \n",
       "40    IT Business Analyst (PERM)       None  Singapore   \n",
       "\n",
       "                                               ojoblink  \\\n",
       "1085  https://www.indeed.com.sg/rc/clk?jk=b788fbe02e...   \n",
       "2854  https://www.indeed.com.sg/rc/clk?jk=792cb07197...   \n",
       "1738  https://www.indeed.com.sg/rc/clk?jk=96be90325f...   \n",
       "4581  https://www.indeed.com.sg/rc/clk?jk=c88932d8ad...   \n",
       "295   https://www.indeed.com.sg/rc/clk?jk=3e2ed800fa...   \n",
       "37                                                 None   \n",
       "4363                                               None   \n",
       "2218  https://www.indeed.com.sg/rc/clk?jk=b90d99f056...   \n",
       "94    https://www.indeed.com.sg/rc/clk?jk=02115dfa11...   \n",
       "40                                                 None   \n",
       "\n",
       "                       salary      searchstring  \\\n",
       "1085                     None  Business Analyst   \n",
       "2854                     None  Business Analyst   \n",
       "1738                     None  Business Analyst   \n",
       "4581                     None  Business Analyst   \n",
       "295                      None  Business Analyst   \n",
       "37    $3,000 - $6,000 a month  Business Analyst   \n",
       "4363                     None  Business Analyst   \n",
       "2218                     None  Business Analyst   \n",
       "94                       None  Business Analyst   \n",
       "40    $4,000 - $6,000 a month  Business Analyst   \n",
       "\n",
       "                                 source  \\\n",
       "1085                 MyCareersFuture.SG   \n",
       "2854                                MSD   \n",
       "1738         Marsh & McLennan Companies   \n",
       "4581               Power IT Consultancy   \n",
       "295                  MyCareersFuture.SG   \n",
       "37                                 None   \n",
       "4363                            Sciente   \n",
       "2218                            CCN Hub   \n",
       "94    Singapore LNG Corporation Pte Ltd   \n",
       "40                                 None   \n",
       "\n",
       "                                                    url  \n",
       "1085  https://www.indeed.com.sg/rc/clk?jk=b788fbe02e...  \n",
       "2854  https://www.indeed.com.sg/rc/clk?jk=792cb07197...  \n",
       "1738  https://www.indeed.com.sg/rc/clk?jk=96be90325f...  \n",
       "4581  https://www.indeed.com.sg/rc/clk?jk=c88932d8ad...  \n",
       "295   https://www.indeed.com.sg/rc/clk?jk=3e2ed800fa...  \n",
       "37    https://www.indeed.com.sg/company/TechSource-S...  \n",
       "4363  https://www.indeed.com.sg/rc/clk?jk=7498502484...  \n",
       "2218  https://www.indeed.com.sg/rc/clk?jk=b90d99f056...  \n",
       "94    https://www.indeed.com.sg/rc/clk?jk=02115dfa11...  \n",
       "40    https://www.indeed.com.sg/company/R-Systems/jo...  "
      ]
     },
     "execution_count": 39,
     "metadata": {},
     "output_type": "execute_result"
    }
   ],
   "source": [
    "df = pd.DataFrame(datadict)\n",
    "df.sample(10)"
   ]
  },
  {
   "cell_type": "code",
   "execution_count": 40,
   "metadata": {},
   "outputs": [
    {
     "data": {
      "text/plain": [
       "(4986, 11)"
      ]
     },
     "execution_count": 40,
     "metadata": {},
     "output_type": "execute_result"
    }
   ],
   "source": [
    "df.shape"
   ]
  },
  {
   "cell_type": "code",
   "execution_count": 41,
   "metadata": {},
   "outputs": [],
   "source": [
    "df.to_pickle(\"./IDD{}.pkl\".format(searchstr))"
   ]
  },
  {
   "cell_type": "code",
   "execution_count": null,
   "metadata": {},
   "outputs": [],
   "source": []
  }
 ],
 "metadata": {
  "kernelspec": {
   "display_name": "Python 3",
   "language": "python",
   "name": "python3"
  },
  "language_info": {
   "codemirror_mode": {
    "name": "ipython",
    "version": 3
   },
   "file_extension": ".py",
   "mimetype": "text/x-python",
   "name": "python",
   "nbconvert_exporter": "python",
   "pygments_lexer": "ipython3",
   "version": "3.7.0"
  }
 },
 "nbformat": 4,
 "nbformat_minor": 1
}
