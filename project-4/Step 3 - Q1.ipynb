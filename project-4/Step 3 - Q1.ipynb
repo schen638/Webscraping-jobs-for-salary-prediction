{
 "cells": [
  {
   "cell_type": "markdown",
   "metadata": {},
   "source": [
    "### QUESTION 1: Factors that impact salary\n",
    "\n",
    "To predict salary you will be building either a classification or regression model, using features like the location, title, and summary of the job. If framing this as a regression problem, you will be estimating the listed salary amounts. You may instead choose to frame this as a classification problem, in which case you will create labels from these salaries (high vs. low salary, for example) according to thresholds (such as median salary).\n",
    "\n",
    "You have learned a variety of new skills and models that may be useful for this problem:\n",
    "- NLP\n",
    "- Unsupervised learning and dimensionality reduction techniques (PCA, clustering)\n",
    "- Ensemble methods and decision tree models\n",
    "- SVM models\n",
    "\n",
    "Whatever you decide to use, the most important thing is to justify your choices and interpret your results. *Communication of your process is key.* Note that most listings **DO NOT** come with salary information. You'll need to able to extrapolate or predict the expected salaries for these listings."
   ]
  },
  {
   "cell_type": "code",
   "execution_count": 1,
   "metadata": {
    "scrolled": true
   },
   "outputs": [],
   "source": [
    "from bs4 import BeautifulSoup\n",
    "import numpy as np\n",
    "import scipy.stats as stats\n",
    "import seaborn as sns\n",
    "import matplotlib.pyplot as plt\n",
    "import pandas as pd\n",
    "\n",
    "import pickle\n",
    "import re"
   ]
  },
  {
   "cell_type": "code",
   "execution_count": 2,
   "metadata": {
    "scrolled": false
   },
   "outputs": [],
   "source": [
    "from collections import Counter, defaultdict\n",
    "from sklearn.feature_extraction import stop_words\n",
    "from sklearn.feature_extraction.text import HashingVectorizer\n",
    "from sklearn.pipeline import make_pipeline\n",
    "from sklearn.metrics import accuracy_score\n",
    "from sklearn.feature_extraction.text import CountVectorizer, TfidfTransformer, TfidfVectorizer\n",
    "from sklearn.model_selection import learning_curve\n",
    "from sklearn.model_selection import train_test_split, cross_val_score, ShuffleSplit, GridSearchCV\n",
    "from sklearn.preprocessing import StandardScaler\n",
    "from sklearn import metrics\n",
    "from sklearn.linear_model import LogisticRegression, LogisticRegressionCV\n",
    "from sklearn.ensemble import RandomForestClassifier\n",
    "from sklearn.neighbors import KNeighborsClassifier\n",
    "from sklearn.svm import SVC\n",
    "from sklearn.metrics import classification_report, confusion_matrix, \\\n",
    "mean_squared_error, roc_curve, auc\n",
    "from sklearn.naive_bayes import MultinomialNB, BernoulliNB, GaussianNB\n",
    "from sklearn.pipeline import Pipeline\n",
    "from nltk.tokenize import sent_tokenize, word_tokenize\n",
    "import nltk"
   ]
  },
  {
   "cell_type": "code",
   "execution_count": 3,
   "metadata": {},
   "outputs": [],
   "source": [
    "import warnings\n",
    "warnings.filterwarnings('ignore')"
   ]
  },
  {
   "cell_type": "markdown",
   "metadata": {},
   "source": [
    "### NLP and more cleaning specific to Q1"
   ]
  },
  {
   "cell_type": "code",
   "execution_count": 4,
   "metadata": {
    "scrolled": false
   },
   "outputs": [],
   "source": [
    "df = pd.read_pickle(\"./allcleaned.pkl\")"
   ]
  },
  {
   "cell_type": "code",
   "execution_count": 5,
   "metadata": {
    "scrolled": true
   },
   "outputs": [
    {
     "data": {
      "text/plain": [
       "(2945, 17)"
      ]
     },
     "execution_count": 5,
     "metadata": {},
     "output_type": "execute_result"
    }
   ],
   "source": [
    "df.shape"
   ]
  },
  {
   "cell_type": "code",
   "execution_count": 6,
   "metadata": {
    "scrolled": false
   },
   "outputs": [
    {
     "data": {
      "text/plain": [
       "2113"
      ]
     },
     "execution_count": 6,
     "metadata": {},
     "output_type": "execute_result"
    }
   ],
   "source": [
    "# the first thing we need to do is get rid of rows without salaries for Q1\n",
    "df[df.avgsalary==0].avgsalary.count()"
   ]
  },
  {
   "cell_type": "code",
   "execution_count": 7,
   "metadata": {
    "scrolled": false
   },
   "outputs": [],
   "source": [
    "df.drop(df[df.avgsalary==0].index, axis=0, inplace=True)"
   ]
  },
  {
   "cell_type": "code",
   "execution_count": 8,
   "metadata": {
    "scrolled": false
   },
   "outputs": [],
   "source": [
    "df.dropna(axis=0, subset=['avgsalary'], inplace=True)"
   ]
  },
  {
   "cell_type": "code",
   "execution_count": 9,
   "metadata": {
    "scrolled": false
   },
   "outputs": [
    {
     "data": {
      "text/plain": [
       "<matplotlib.axes._subplots.AxesSubplot at 0x2095ab23208>"
      ]
     },
     "execution_count": 9,
     "metadata": {},
     "output_type": "execute_result"
    },
    {
     "data": {
      "image/png": "[encoded data removed]",
      "text/plain": [
       "<Figure size 720x288 with 1 Axes>"
      ]
     },
     "metadata": {
      "needs_background": "light"
     },
     "output_type": "display_data"
    }
   ],
   "source": [
    "df.avgsalary.hist(figsize=(10,4), bins=10)"
   ]
  },
  {
   "cell_type": "code",
   "execution_count": 10,
   "metadata": {},
   "outputs": [],
   "source": [
    "# there is a significant right skew in the salary. however, since this problem will be tackled\n",
    "# as a classification problem using the quartile system as a divider, this should not pose a problem"
   ]
  },
  {
   "cell_type": "code",
   "execution_count": 11,
   "metadata": {},
   "outputs": [
    {
     "data": {
      "text/plain": [
       "count      787.000000\n",
       "mean      6892.115488\n",
       "std       3193.367428\n",
       "min       1150.000000\n",
       "25%       4750.000000\n",
       "50%       6500.000000\n",
       "75%       8500.000000\n",
       "max      25000.000000\n",
       "Name: avgsalary, dtype: float64"
      ]
     },
     "execution_count": 11,
     "metadata": {},
     "output_type": "execute_result"
    }
   ],
   "source": [
    "df.avgsalary.describe()"
   ]
  },
  {
   "cell_type": "markdown",
   "metadata": {},
   "source": [
    "run vectorizer on jd first."
   ]
  },
  {
   "cell_type": "code",
   "execution_count": 12,
   "metadata": {
    "scrolled": true
   },
   "outputs": [
    {
     "data": {
      "text/plain": [
       "'Roles & ResponsibilitiesPalo IT is an innovation & agile development company. From Design Research to DevOps, we are in the business of end-to-end development of breakthrough digital experiences. As a community of innovators and developers, we also aim at renewing the way organizations operate, promoting sustainable business agility, user-centricity and open collaboration while having fun doing it.  Started in Paris in 2009 and with offices in Singapore, Hong Kong and Mexico, we are looking for our next superstar to join our exciting team in Singapore.  At Palo IT, our employees are not widgets. They are in the center of all our projects and successes. We offer an exciting and creative working environment, with endless opportunities to develop your skills, travel and take your career to the next level. Get in touch to find out more!  Your profile & role on the project  YOU:  \\uf0a7 Thrive on challenge. When was the last time you fail?  \\uf0a7 Are curious & always learning. What are you up to right now?  \\uf0a7 Can deal with constant change. When were you last surprised?  \\uf0a7 Have mastered at least one skill of your trade but you’re not defined by it. What can you  teach us? Can you wear many hats?  YOU AGAIN:  The Junior Engineer will learn to install, maintain, and support an on-premises cloud infrastructure and while learning and applying devops practices and solutions. That person will also learn about latest cloud-related technologies such as AWS, Puppet, Chef, Elk. Other infrastructure related activities such as maintaining the company internal server infrastructure and respond to consultant requests when required will be expected.  ➔ Install, maintain, and support on-premises and off-premises cloud stack.  ➔ Configure, maintain, and support the cloud-related infrastructures.  ➔ Act as a system administrator on different OSes (e.g. RHEL, Opensolaris, Ubuntu, etc.) and help teams deploy their application and automate their development and releases on\\xa0 the cloud.  ➔ Ability to develop solutions and self-learn new tools and technologies.  ➔ Document, and share knowledge on developed DevOps solutions.  STILL YOU:  ✔ Strong interest in Cloud-based technologies and Devops practices  ✔ 0-2 year (s) of experience in configuration and maintenance of existing Cloud solutions  would be considered a plus  ✔ Experience in migration from Solaris to RHEL (Red Hat Linux) would be considered a plus  ✔ Bachelor’s degree in Computer Science or related area is required  ✔ Certification in AWS/Azure would be considered a plus  ✔ Excellent interpersonal, oral/written communication and cross-group collaboration skills  ✔ Independent thinker with strong work ethic but also willing and able to conform to  established architectural constraints  ✔ Detail oriented with good organizational skills  ✔ Good knowledge of Linux OS, Shell Scripting and SQL  ✔ Good understanding of networking would be a plus  ✔ Ability to work on multiple priorities and/or projects simultaneously  ✔ Problem-solving abilities and ability to meet reasonable deadlines  ✔ Strong team player, ability to build positive and collaborative relationships  ✔ Ability to work under general supervision  Your role at PALO IT  You will be invited to take part in R&D works done within our Practices. You will have the chance to assist or be a speaker at must-attend international IT conferences. You will have the opportunity to write articles for our Blog or specialized press. Genuine ambassador of PALO IT, you will present our offers and take an active role in the development of the company.  Your technical environment  # Cloud-based technologies (AWS/Puppet/Chef/Elk/Azure/Opencloud) # Devops practices # Linux OS, Shell Scripting, SQL # Agile and scrum environment  WHY US ?  PALO IT is a learning company guided by the values of Agility and craftsmanship offering you multiple possibilities to express yourself and enhance your skills through :  # Our monthly BarCamps; # Our R&D projects; # Our Practices (Development, Architecture, Lean & Agile, Big Data); # Our missions high added value missions in France and internationally that will make you discover new horizons; # Our participation to and sponsoring of major technical events; # And our parties parties = FUN !  Firmly focusing on international expansion, we have offices in France, Hong Kong, Singapore and\\xa0Mexico, meet us to continue this growth !  If you like what you just read, we’d love to have a chat with you!\\r\\n\\r\\nRequirements✔ Strong interest in Cloud-based technologies and Devops practices  ✔ 0-2 year (s) of experience in configuration and maintenance of existing Cloud solutions  would be considered a plus  ✔ Experience in migration from Solaris to RHEL (Red Hat Linux) would be considered a plus  ✔ Bachelor’s degree in Computer Science or related area is required  ✔ Certification in AWS/Azure would be considered a plus  ✔ Excellent interpersonal, oral/written communication and cross-group collaboration skills  ✔ Independent thinker with strong work ethic but also willing and able to conform to  established architectural constraints  ✔ Detail oriented with good organizational skills  ✔ Good knowledge of Linux OS, Shell Scripting and SQL  ✔ Good understanding of networking would be a plus  ✔ Ability to work on multiple priorities and/or projects simultaneously  ✔ Problem-solving abilities and ability to meet reasonable deadlines  ✔ Strong team player, ability to build positive and collaborative relationships  ✔ Ability to work under general supervision \\xa0'"
      ]
     },
     "execution_count": 12,
     "metadata": {},
     "output_type": "execute_result"
    }
   ],
   "source": [
    "# it's one giant string. cool.\n",
    "df.jd[51]"
   ]
  },
  {
   "cell_type": "code",
   "execution_count": 13,
   "metadata": {
    "scrolled": false
   },
   "outputs": [],
   "source": [
    "def cleanrd1(text):\n",
    "    text = text.lower()\n",
    "    # removes carriage returns\n",
    "    text = re.sub('/(\\r\\n)+|\\r+|\\n+|\\t+/i', ' ', text)\n",
    "    # remove everything NOT in the brackets (with caret)\n",
    "    text = re.sub(r\"[^a-zA-Z ]\",\" \",text)\n",
    "    return text\n",
    "\n",
    "clean1 = lambda x: cleanrd1(x)\n"
   ]
  },
  {
   "cell_type": "code",
   "execution_count": 14,
   "metadata": {
    "scrolled": false
   },
   "outputs": [],
   "source": [
    "df['text'] = df.jd.apply(clean1)"
   ]
  },
  {
   "cell_type": "code",
   "execution_count": 15,
   "metadata": {
    "scrolled": true
   },
   "outputs": [],
   "source": [
    "# save to pickle first\n",
    "df.to_pickle('./Q1textcleaned.pkl')"
   ]
  },
  {
   "cell_type": "code",
   "execution_count": 16,
   "metadata": {
    "scrolled": false
   },
   "outputs": [
    {
     "data": {
      "text/plain": [
       "'roles   responsibilitiespalo it is an innovation   agile development company  from design research to devops  we are in the business of end to end development of breakthrough digital experiences  as a community of innovators and developers  we also aim at renewing the way organizations operate  promoting sustainable business agility  user centricity and open collaboration while having fun doing it   started in paris in      and with offices in singapore  hong kong and mexico  we are looking for our next superstar to join our exciting team in singapore   at palo it  our employees are not widgets  they are in the center of all our projects and successes  we offer an exciting and creative working environment  with endless opportunities to develop your skills  travel and take your career to the next level  get in touch to find out more   your profile   role on the project  you     thrive on challenge  when was the last time you fail     are curious   always learning  what are you up to right now     can deal with constant change  when were you last surprised     have mastered at least one skill of your trade but you re not defined by it  what can you  teach us  can you wear many hats   you again   the junior engineer will learn to install  maintain  and support an on premises cloud infrastructure and while learning and applying devops practices and solutions  that person will also learn about latest cloud related technologies such as aws  puppet  chef  elk  other infrastructure related activities such as maintaining the company internal server infrastructure and respond to consultant requests when required will be expected     install  maintain  and support on premises and off premises cloud stack     configure  maintain  and support the cloud related infrastructures     act as a system administrator on different oses  e g  rhel  opensolaris  ubuntu  etc   and help teams deploy their application and automate their development and releases on  the cloud     ability to develop solutions and self learn new tools and technologies     document  and share knowledge on developed devops solutions   still you     strong interest in cloud based technologies and devops practices        year  s  of experience in configuration and maintenance of existing cloud solutions  would be considered a plus    experience in migration from solaris to rhel  red hat linux  would be considered a plus    bachelor s degree in computer science or related area is required    certification in aws azure would be considered a plus    excellent interpersonal  oral written communication and cross group collaboration skills    independent thinker with strong work ethic but also willing and able to conform to  established architectural constraints    detail oriented with good organizational skills    good knowledge of linux os  shell scripting and sql    good understanding of networking would be a plus    ability to work on multiple priorities and or projects simultaneously    problem solving abilities and ability to meet reasonable deadlines    strong team player  ability to build positive and collaborative relationships    ability to work under general supervision  your role at palo it  you will be invited to take part in r d works done within our practices  you will have the chance to assist or be a speaker at must attend international it conferences  you will have the opportunity to write articles for our blog or specialized press  genuine ambassador of palo it  you will present our offers and take an active role in the development of the company   your technical environment    cloud based technologies  aws puppet chef elk azure opencloud    devops practices   linux os  shell scripting  sql   agile and scrum environment  why us    palo it is a learning company guided by the values of agility and craftsmanship offering you multiple possibilities to express yourself and enhance your skills through      our monthly barcamps    our r d projects    our practices  development  architecture  lean   agile  big data     our missions high added value missions in france and internationally that will make you discover new horizons    our participation to and sponsoring of major technical events    and our parties parties   fun    firmly focusing on international expansion  we have offices in france  hong kong  singapore and mexico  meet us to continue this growth    if you like what you just read  we d love to have a chat with you     requirements  strong interest in cloud based technologies and devops practices        year  s  of experience in configuration and maintenance of existing cloud solutions  would be considered a plus    experience in migration from solaris to rhel  red hat linux  would be considered a plus    bachelor s degree in computer science or related area is required    certification in aws azure would be considered a plus    excellent interpersonal  oral written communication and cross group collaboration skills    independent thinker with strong work ethic but also willing and able to conform to  established architectural constraints    detail oriented with good organizational skills    good knowledge of linux os  shell scripting and sql    good understanding of networking would be a plus    ability to work on multiple priorities and or projects simultaneously    problem solving abilities and ability to meet reasonable deadlines    strong team player  ability to build positive and collaborative relationships    ability to work under general supervision  '"
      ]
     },
     "execution_count": 16,
     "metadata": {},
     "output_type": "execute_result"
    }
   ],
   "source": [
    "df.text[51]"
   ]
  },
  {
   "cell_type": "code",
   "execution_count": 17,
   "metadata": {
    "scrolled": false
   },
   "outputs": [],
   "source": [
    "corpus = [t for t in df.text]"
   ]
  },
  {
   "cell_type": "code",
   "execution_count": 18,
   "metadata": {},
   "outputs": [],
   "source": [
    "from nltk.corpus import stopwords\n",
    "# import stopwords with option of adding more customized ones later \n",
    "stop = stopwords.words('english')"
   ]
  },
  {
   "cell_type": "code",
   "execution_count": 19,
   "metadata": {
    "scrolled": false
   },
   "outputs": [],
   "source": [
    "# get stem words \n",
    "# tried porter stemmer but results were not encouraging so dropped. \n",
    "\n",
    "# from nltk.stem import PorterStemmer\n",
    "# wordlist=[]\n",
    "# newcorpus = []\n",
    "# porter=PorterStemmer()\n",
    "\n",
    "# for c in corpus[:2]:\n",
    "#     wordblock = word_tokenize(c)\n",
    "#     for word in wordblock:\n",
    "#         wordlist.append(porter.stem(word))\n",
    "#         print(wordlist) \n",
    "#     newcorpus.append(' '.join(wordlist))"
   ]
  },
  {
   "cell_type": "code",
   "execution_count": 20,
   "metadata": {},
   "outputs": [],
   "source": [
    "cvec = CountVectorizer(stop_words=stop, ngram_range=(1, 2), max_df=0.9, max_features=20000)"
   ]
  },
  {
   "cell_type": "code",
   "execution_count": 21,
   "metadata": {},
   "outputs": [
    {
     "data": {
      "text/plain": [
       "CountVectorizer(analyzer='word', binary=False, decode_error='strict',\n",
       "        dtype=<class 'numpy.int64'>, encoding='utf-8', input='content',\n",
       "        lowercase=True, max_df=0.9, max_features=20000, min_df=1,\n",
       "        ngram_range=(1, 2), preprocessor=None,\n",
       "        stop_words=['i', 'me', 'my', 'myself', 'we', 'our', 'ours', 'ourselves', 'you', \"you're\", \"you've\", \"you'll\", \"you'd\", 'your', 'yours', 'yourself', 'yourselves', 'he', 'him', 'his', 'himself', 'she', \"she's\", 'her', 'hers', 'herself', 'it', \"it's\", 'its', 'itself', 'they', 'them', 'their', 'theirs',... 'shouldn', \"shouldn't\", 'wasn', \"wasn't\", 'weren', \"weren't\", 'won', \"won't\", 'wouldn', \"wouldn't\"],\n",
       "        strip_accents=None, token_pattern='(?u)\\\\b\\\\w\\\\w+\\\\b',\n",
       "        tokenizer=None, vocabulary=None)"
      ]
     },
     "execution_count": 21,
     "metadata": {},
     "output_type": "execute_result"
    }
   ],
   "source": [
    "# builds vocab using fit and transforms words into numbers w transform\n",
    "cvec.fit(corpus)"
   ]
  },
  {
   "cell_type": "code",
   "execution_count": 22,
   "metadata": {},
   "outputs": [],
   "source": [
    "X = cvec.transform(corpus)"
   ]
  },
  {
   "cell_type": "code",
   "execution_count": 23,
   "metadata": {
    "scrolled": false
   },
   "outputs": [],
   "source": [
    "Xt = pd.DataFrame(X.todense(), \n",
    "                    columns=cvec.get_feature_names(), index = df.index)"
   ]
  },
  {
   "cell_type": "code",
   "execution_count": 24,
   "metadata": {
    "scrolled": false
   },
   "outputs": [
    {
     "data": {
      "text/plain": [
       "(787, 20000)"
      ]
     },
     "execution_count": 24,
     "metadata": {},
     "output_type": "execute_result"
    }
   ],
   "source": [
    "Xt.shape"
   ]
  },
  {
   "cell_type": "code",
   "execution_count": 25,
   "metadata": {},
   "outputs": [
    {
     "data": {
      "text/plain": [
       "data            3561\n",
       "business        2110\n",
       "team            1363\n",
       "work            1330\n",
       "skills          1243\n",
       "management      1176\n",
       "requirements    1044\n",
       "knowledge        986\n",
       "development      926\n",
       "solutions        832\n",
       "learning         824\n",
       "strong           789\n",
       "support          783\n",
       "working          781\n",
       "design           768\n",
       "project          765\n",
       "ability          710\n",
       "technical        700\n",
       "years            684\n",
       "analytics        658\n",
       "dtype: int64"
      ]
     },
     "execution_count": 25,
     "metadata": {},
     "output_type": "execute_result"
    }
   ],
   "source": [
    "#top words\n",
    "Xt.sum().sort_values(ascending=False).head(20)"
   ]
  },
  {
   "cell_type": "code",
   "execution_count": 26,
   "metadata": {},
   "outputs": [
    {
     "data": {
      "text/plain": [
       "Index(['advertiser', 'avgsalary', 'district', 'elapsed', 'industry', 'jd',\n",
       "       'jobtitle', 'jobtype', 'portal', 'searchstring', 'seniority', 'source',\n",
       "       'employees', 'firmsize', 'function', 'rank', 'level', 'text'],\n",
       "      dtype='object')"
      ]
     },
     "execution_count": 26,
     "metadata": {},
     "output_type": "execute_result"
    }
   ],
   "source": [
    "df.columns"
   ]
  },
  {
   "cell_type": "code",
   "execution_count": 27,
   "metadata": {},
   "outputs": [],
   "source": [
    "#df.rank pulls up function, so rename to avoid clash\n",
    "df.rename(columns={'rank': 'ranked'}, inplace=True)"
   ]
  },
  {
   "cell_type": "code",
   "execution_count": 28,
   "metadata": {},
   "outputs": [],
   "source": [
    "df.elapsed = pd.to_numeric(df.elapsed)"
   ]
  },
  {
   "cell_type": "code",
   "execution_count": 29,
   "metadata": {},
   "outputs": [
    {
     "data": {
      "text/plain": [
       "advertiser        0\n",
       "avgsalary         0\n",
       "district        184\n",
       "elapsed           0\n",
       "industry         41\n",
       "jd                0\n",
       "jobtitle          0\n",
       "jobtype          29\n",
       "portal            0\n",
       "searchstring      0\n",
       "seniority        41\n",
       "source            0\n",
       "employees         1\n",
       "firmsize          0\n",
       "function         41\n",
       "ranked           41\n",
       "level            41\n",
       "text              0\n",
       "dtype: int64"
      ]
     },
     "execution_count": 29,
     "metadata": {},
     "output_type": "execute_result"
    }
   ],
   "source": [
    "# check for nulls\n",
    "df.isnull().sum()"
   ]
  },
  {
   "cell_type": "code",
   "execution_count": 30,
   "metadata": {},
   "outputs": [
    {
     "data": {
      "text/plain": [
       "1.0"
      ]
     },
     "execution_count": 30,
     "metadata": {},
     "output_type": "execute_result"
    }
   ],
   "source": [
    "# impute median rank to null ranked rows as this is numerical and will cause problems in modelling\n",
    "# later if not handled\n",
    "np.median(~df.ranked.isnull())"
   ]
  },
  {
   "cell_type": "code",
   "execution_count": 31,
   "metadata": {},
   "outputs": [],
   "source": [
    "df.ranked.fillna(np.median(~df.ranked.isnull()), inplace=True)"
   ]
  },
  {
   "cell_type": "code",
   "execution_count": 32,
   "metadata": {},
   "outputs": [],
   "source": [
    "# for others, replace with 'None' as these are categoricals\n",
    "todrop = ['district','industry', 'jobtype']\n",
    "for t in todrop:\n",
    "    df[t].fillna('None',  inplace=True)"
   ]
  },
  {
   "cell_type": "code",
   "execution_count": 33,
   "metadata": {},
   "outputs": [],
   "source": [
    "# create final dataframe for classification exercise "
   ]
  },
  {
   "cell_type": "code",
   "execution_count": 34,
   "metadata": {},
   "outputs": [
    {
     "data": {
      "text/html": [
       "<div>\n",
       "<style scoped>\n",
       "    .dataframe tbody tr th:only-of-type {\n",
       "        vertical-align: middle;\n",
       "    }\n",
       "\n",
       "    .dataframe tbody tr th {\n",
       "        vertical-align: top;\n",
       "    }\n",
       "\n",
       "    .dataframe thead th {\n",
       "        text-align: right;\n",
       "    }\n",
       "</style>\n",
       "<table border=\"1\" class=\"dataframe\">\n",
       "  <thead>\n",
       "    <tr style=\"text-align: right;\">\n",
       "      <th></th>\n",
       "      <th>avgsalary</th>\n",
       "      <th>elapsed</th>\n",
       "      <th>employees</th>\n",
       "      <th>firmsize</th>\n",
       "      <th>function</th>\n",
       "      <th>ranked</th>\n",
       "      <th>level</th>\n",
       "    </tr>\n",
       "  </thead>\n",
       "  <tbody>\n",
       "    <tr>\n",
       "      <th>0</th>\n",
       "      <td>9000.0</td>\n",
       "      <td>0.0</td>\n",
       "      <td>20000.0</td>\n",
       "      <td>3</td>\n",
       "      <td>0.0</td>\n",
       "      <td>3.0</td>\n",
       "      <td>3.0</td>\n",
       "    </tr>\n",
       "    <tr>\n",
       "      <th>1</th>\n",
       "      <td>5100.0</td>\n",
       "      <td>0.0</td>\n",
       "      <td>1.0</td>\n",
       "      <td>0</td>\n",
       "      <td>2.0</td>\n",
       "      <td>2.0</td>\n",
       "      <td>0.0</td>\n",
       "    </tr>\n",
       "    <tr>\n",
       "      <th>2</th>\n",
       "      <td>17500.0</td>\n",
       "      <td>0.0</td>\n",
       "      <td>1.0</td>\n",
       "      <td>0</td>\n",
       "      <td>3.0</td>\n",
       "      <td>3.0</td>\n",
       "      <td>0.0</td>\n",
       "    </tr>\n",
       "    <tr>\n",
       "      <th>3</th>\n",
       "      <td>10500.0</td>\n",
       "      <td>0.0</td>\n",
       "      <td>1.0</td>\n",
       "      <td>0</td>\n",
       "      <td>4.0</td>\n",
       "      <td>8.0</td>\n",
       "      <td>4.0</td>\n",
       "    </tr>\n",
       "    <tr>\n",
       "      <th>4</th>\n",
       "      <td>8500.0</td>\n",
       "      <td>0.0</td>\n",
       "      <td>1.0</td>\n",
       "      <td>0</td>\n",
       "      <td>2.0</td>\n",
       "      <td>7.0</td>\n",
       "      <td>5.0</td>\n",
       "    </tr>\n",
       "  </tbody>\n",
       "</table>\n",
       "</div>"
      ],
      "text/plain": [
       "   avgsalary  elapsed  employees  firmsize  function  ranked  level\n",
       "0     9000.0      0.0    20000.0         3       0.0     3.0    3.0\n",
       "1     5100.0      0.0        1.0         0       2.0     2.0    0.0\n",
       "2    17500.0      0.0        1.0         0       3.0     3.0    0.0\n",
       "3    10500.0      0.0        1.0         0       4.0     8.0    4.0\n",
       "4     8500.0      0.0        1.0         0       2.0     7.0    5.0"
      ]
     },
     "execution_count": 34,
     "metadata": {},
     "output_type": "execute_result"
    }
   ],
   "source": [
    "X = df.select_dtypes(include='number')\n",
    "X.head()"
   ]
  },
  {
   "cell_type": "code",
   "execution_count": 35,
   "metadata": {},
   "outputs": [
    {
     "data": {
      "text/plain": [
       "(787, 3)"
      ]
     },
     "execution_count": 35,
     "metadata": {},
     "output_type": "execute_result"
    }
   ],
   "source": [
    "X = X.drop(['avgsalary', 'function','level','employees'], axis=1)\n",
    "X.shape"
   ]
  },
  {
   "cell_type": "code",
   "execution_count": 36,
   "metadata": {},
   "outputs": [],
   "source": [
    "# some jobs belong to multiple industries, so let's split the industry variable\n",
    "dummy = df.industry.str.strip().str.get_dummies(sep=',')"
   ]
  },
  {
   "cell_type": "code",
   "execution_count": 37,
   "metadata": {},
   "outputs": [
    {
     "data": {
      "text/plain": [
       "(787, 63)"
      ]
     },
     "execution_count": 37,
     "metadata": {},
     "output_type": "execute_result"
    }
   ],
   "source": [
    "dummy.shape"
   ]
  },
  {
   "cell_type": "code",
   "execution_count": 38,
   "metadata": {},
   "outputs": [
    {
     "data": {
      "text/plain": [
       "(787, 66)"
      ]
     },
     "execution_count": 38,
     "metadata": {},
     "output_type": "execute_result"
    }
   ],
   "source": [
    "X = pd.concat([X, dummy], axis=1)\n",
    "X.shape"
   ]
  },
  {
   "cell_type": "code",
   "execution_count": 39,
   "metadata": {},
   "outputs": [],
   "source": [
    "# columns to convert into dummy variables \n",
    "dummies = ['district', 'jobtype', 'portal', 'searchstring']"
   ]
  },
  {
   "cell_type": "code",
   "execution_count": 40,
   "metadata": {},
   "outputs": [
    {
     "data": {
      "text/plain": [
       "(787, 104)"
      ]
     },
     "execution_count": 40,
     "metadata": {},
     "output_type": "execute_result"
    }
   ],
   "source": [
    "dummy = pd.get_dummies(df[dummies], prefix=dummies, drop_first=True)\n",
    "X = pd.concat([X, dummy], axis=1)\n",
    "X.shape"
   ]
  },
  {
   "cell_type": "code",
   "execution_count": 41,
   "metadata": {},
   "outputs": [
    {
     "data": {
      "text/plain": [
       "Index([], dtype='object')"
      ]
     },
     "execution_count": 41,
     "metadata": {},
     "output_type": "execute_result"
    }
   ],
   "source": [
    "# check for NAs\n",
    "X.columns[X.isnull().any()]"
   ]
  },
  {
   "cell_type": "code",
   "execution_count": 42,
   "metadata": {},
   "outputs": [
    {
     "data": {
      "text/plain": [
       "(787, 20000)"
      ]
     },
     "execution_count": 42,
     "metadata": {},
     "output_type": "execute_result"
    }
   ],
   "source": [
    "# prefix jd word columns with 'jd' for ID purposes\n",
    "Xt.columns = 'jd_' + Xt.columns\n",
    "Xt.shape"
   ]
  },
  {
   "cell_type": "code",
   "execution_count": 43,
   "metadata": {},
   "outputs": [],
   "source": [
    "X = pd.concat([X, Xt], axis=1)"
   ]
  },
  {
   "cell_type": "code",
   "execution_count": 44,
   "metadata": {},
   "outputs": [
    {
     "data": {
      "text/plain": [
       "(787, 20104)"
      ]
     },
     "execution_count": 44,
     "metadata": {},
     "output_type": "execute_result"
    }
   ],
   "source": [
    "X.shape"
   ]
  },
  {
   "cell_type": "code",
   "execution_count": 45,
   "metadata": {},
   "outputs": [],
   "source": [
    "# let y fall into 2 salary buckets, corresp to below and above the median\n",
    "df['salbucket'] = np.where(df.avgsalary>=df.avgsalary.quantile(.5), 1, 0)"
   ]
  },
  {
   "cell_type": "code",
   "execution_count": 46,
   "metadata": {},
   "outputs": [],
   "source": [
    "y = df.salbucket"
   ]
  },
  {
   "cell_type": "code",
   "execution_count": 47,
   "metadata": {},
   "outputs": [
    {
     "data": {
      "image/png": "[encoded data removed]",
      "text/plain": [
       "<Figure size 344.125x288 with 1 Axes>"
      ]
     },
     "metadata": {
      "needs_background": "light"
     },
     "output_type": "display_data"
    }
   ],
   "source": [
    "sns.lmplot(x = 'ranked', y = 'avgsalary', data = df, hue = 'salbucket', \\\n",
    "           height = 4, fit_reg = False, palette = 'tab20b_r')\n",
    "plt.show()"
   ]
  },
  {
   "cell_type": "code",
   "execution_count": 48,
   "metadata": {},
   "outputs": [],
   "source": [
    "df.to_pickle('./Q1premodel.pkl')"
   ]
  },
  {
   "cell_type": "markdown",
   "metadata": {},
   "source": [
    "### MODELLING"
   ]
  },
  {
   "cell_type": "code",
   "execution_count": 146,
   "metadata": {},
   "outputs": [],
   "source": [
    "# what is our baseline y?\n",
    "# we chose 50-50\n",
    "# therefore baseline = 0.5\n",
    "baseline = 0.5"
   ]
  },
  {
   "cell_type": "code",
   "execution_count": 147,
   "metadata": {},
   "outputs": [],
   "source": [
    "# split dataset into train and test set\n",
    "ss= StandardScaler()\n",
    "X_train, X_test, y_train, y_test = \\\n",
    "           train_test_split(X, y, \\\n",
    "                            random_state = 140, test_size = 0.2, stratify=y)\n",
    "# scale data fit and transform train set but just transform test set\n",
    "Xs_train = ss.fit_transform(X_train)\n",
    "Xs_test = ss.transform(X_test)\n",
    "\n",
    "Xs_train = pd.DataFrame(Xs_train, columns=X_train.columns)\n",
    "Xs_test = pd.DataFrame(Xs_test, columns=X_test.columns)"
   ]
  },
  {
   "cell_type": "markdown",
   "metadata": {},
   "source": [
    "<div class=\"alert alert-warning\">\n",
    "    1. Logistic Regression + GridSearchCV"
   ]
  },
  {
   "cell_type": "code",
   "execution_count": 51,
   "metadata": {},
   "outputs": [],
   "source": [
    "# Applying Logistic Regression using GridSearchCV to find optimum parameters and perform\n",
    "# cross-validation at the same time.\n",
    "\n",
    "logr_parameters = {\n",
    "    'penalty':['l1','l2'],\n",
    "    'solver':['liblinear'],\n",
    "    'C':np.logspace(0,4,20) #np.linspace(1, 25, 25)\n",
    "}"
   ]
  },
  {
   "cell_type": "code",
   "execution_count": 52,
   "metadata": {},
   "outputs": [
    {
     "name": "stdout",
     "output_type": "stream",
     "text": [
      "Fitting 5 folds for each of 40 candidates, totalling 200 fits\n"
     ]
    },
    {
     "name": "stderr",
     "output_type": "stream",
     "text": [
      "[Parallel(n_jobs=1)]: Using backend SequentialBackend with 1 concurrent workers.\n",
      "[Parallel(n_jobs=1)]: Done 200 out of 200 | elapsed: 15.7min finished\n"
     ]
    }
   ],
   "source": [
    "logr_gridsearcher = GridSearchCV(LogisticRegression(), logr_parameters, cv=5, verbose=1)\n",
    "logr_result = logr_gridsearcher.fit(Xs_train, y_train)"
   ]
  },
  {
   "cell_type": "code",
   "execution_count": 53,
   "metadata": {},
   "outputs": [
    {
     "name": "stdout",
     "output_type": "stream",
     "text": [
      "Best mean cross-validated score achieved: 0.6883942766295708\n",
      "Best parameters: {'C': 4.281332398719393, 'penalty': 'l2', 'solver': 'liblinear'}\n"
     ]
    }
   ],
   "source": [
    "print('Best mean cross-validated score achieved:', logr_result.best_score_)\n",
    "print('Best parameters:', logr_result.best_params_)"
   ]
  },
  {
   "cell_type": "code",
   "execution_count": 54,
   "metadata": {},
   "outputs": [
    {
     "name": "stdout",
     "output_type": "stream",
     "text": [
      "Logistic Regression Classification score: 0.689873417721519\n",
      "Baseline: 0.5\n"
     ]
    }
   ],
   "source": [
    "logrbest = logr_result.best_estimator_\n",
    "# this is the accuracy score ie. tp+tn/totpopn\n",
    "print('Logistic Regression Classification score:', logrbest.score(Xs_test, y_test))\n",
    "print('Baseline:', baseline)"
   ]
  },
  {
   "cell_type": "code",
   "execution_count": 55,
   "metadata": {},
   "outputs": [
    {
     "data": {
      "text/plain": [
       "array([[55, 24],\n",
       "       [25, 54]], dtype=int64)"
      ]
     },
     "execution_count": 55,
     "metadata": {},
     "output_type": "execute_result"
    }
   ],
   "source": [
    "confusion_matrix(y_test, logrbest.predict(Xs_test))"
   ]
  },
  {
   "cell_type": "code",
   "execution_count": 56,
   "metadata": {},
   "outputs": [
    {
     "name": "stdout",
     "output_type": "stream",
     "text": [
      "              precision    recall  f1-score   support\n",
      "\n",
      "           0       0.69      0.70      0.69        79\n",
      "           1       0.69      0.68      0.69        79\n",
      "\n",
      "   micro avg       0.69      0.69      0.69       158\n",
      "   macro avg       0.69      0.69      0.69       158\n",
      "weighted avg       0.69      0.69      0.69       158\n",
      "\n"
     ]
    }
   ],
   "source": [
    "print(classification_report(y_test, logrbest.predict(Xs_test)))"
   ]
  },
  {
   "cell_type": "code",
   "execution_count": 57,
   "metadata": {},
   "outputs": [
    {
     "name": "stdout",
     "output_type": "stream",
     "text": [
      "Logistic Regression Classification AUC: 0.689873417721519\n"
     ]
    }
   ],
   "source": [
    "fpr, tpr, _ = roc_curve(y_test, logrbest.predict(Xs_test))\n",
    "roc_auc = auc(fpr, tpr)\n",
    "\n",
    "print('Logistic Regression Classification AUC:', roc_auc)"
   ]
  },
  {
   "cell_type": "code",
   "execution_count": 58,
   "metadata": {},
   "outputs": [
    {
     "data": {
      "text/html": [
       "<div>\n",
       "<style scoped>\n",
       "    .dataframe tbody tr th:only-of-type {\n",
       "        vertical-align: middle;\n",
       "    }\n",
       "\n",
       "    .dataframe tbody tr th {\n",
       "        vertical-align: top;\n",
       "    }\n",
       "\n",
       "    .dataframe thead th {\n",
       "        text-align: right;\n",
       "    }\n",
       "</style>\n",
       "<table border=\"1\" class=\"dataframe\">\n",
       "  <thead>\n",
       "    <tr style=\"text-align: right;\">\n",
       "      <th></th>\n",
       "      <th>coef</th>\n",
       "      <th>abscoef</th>\n",
       "    </tr>\n",
       "  </thead>\n",
       "  <tbody>\n",
       "    <tr>\n",
       "      <th>searchstring_Data Engineer</th>\n",
       "      <td>-0.911522</td>\n",
       "      <td>0.911522</td>\n",
       "    </tr>\n",
       "    <tr>\n",
       "      <th>elapsed</th>\n",
       "      <td>-0.697373</td>\n",
       "      <td>0.697373</td>\n",
       "    </tr>\n",
       "    <tr>\n",
       "      <th>jd_employment type</th>\n",
       "      <td>-0.473407</td>\n",
       "      <td>0.473407</td>\n",
       "    </tr>\n",
       "    <tr>\n",
       "      <th>jd_role business</th>\n",
       "      <td>-0.417506</td>\n",
       "      <td>0.417506</td>\n",
       "    </tr>\n",
       "    <tr>\n",
       "      <th>jd_role senior</th>\n",
       "      <td>0.325439</td>\n",
       "      <td>0.325439</td>\n",
       "    </tr>\n",
       "    <tr>\n",
       "      <th>ranked</th>\n",
       "      <td>0.321924</td>\n",
       "      <td>0.321924</td>\n",
       "    </tr>\n",
       "    <tr>\n",
       "      <th>jd_users well</th>\n",
       "      <td>0.293312</td>\n",
       "      <td>0.293312</td>\n",
       "    </tr>\n",
       "    <tr>\n",
       "      <th>jd_finance marketing</th>\n",
       "      <td>-0.263437</td>\n",
       "      <td>0.263437</td>\n",
       "    </tr>\n",
       "    <tr>\n",
       "      <th>jd_engineer work</th>\n",
       "      <td>-0.247493</td>\n",
       "      <td>0.247493</td>\n",
       "    </tr>\n",
       "    <tr>\n",
       "      <th>jd_scientist work</th>\n",
       "      <td>0.199015</td>\n",
       "      <td>0.199015</td>\n",
       "    </tr>\n",
       "    <tr>\n",
       "      <th>jd_responsibilitiesthe senior</th>\n",
       "      <td>0.178769</td>\n",
       "      <td>0.178769</td>\n",
       "    </tr>\n",
       "    <tr>\n",
       "      <th>Hospitality</th>\n",
       "      <td>-0.176566</td>\n",
       "      <td>0.176566</td>\n",
       "    </tr>\n",
       "    <tr>\n",
       "      <th>jd_responsibilitiesas data</th>\n",
       "      <td>-0.169711</td>\n",
       "      <td>0.169711</td>\n",
       "    </tr>\n",
       "    <tr>\n",
       "      <th>Information Technology</th>\n",
       "      <td>0.161594</td>\n",
       "      <td>0.161594</td>\n",
       "    </tr>\n",
       "    <tr>\n",
       "      <th>jd_manager senior</th>\n",
       "      <td>-0.159496</td>\n",
       "      <td>0.159496</td>\n",
       "    </tr>\n",
       "    <tr>\n",
       "      <th>portal_Indeed</th>\n",
       "      <td>-0.157977</td>\n",
       "      <td>0.157977</td>\n",
       "    </tr>\n",
       "    <tr>\n",
       "      <th>None</th>\n",
       "      <td>-0.157977</td>\n",
       "      <td>0.157977</td>\n",
       "    </tr>\n",
       "    <tr>\n",
       "      <th>jd_three years</th>\n",
       "      <td>0.135647</td>\n",
       "      <td>0.135647</td>\n",
       "    </tr>\n",
       "    <tr>\n",
       "      <th>Others</th>\n",
       "      <td>-0.131734</td>\n",
       "      <td>0.131734</td>\n",
       "    </tr>\n",
       "    <tr>\n",
       "      <th>jd_employment</th>\n",
       "      <td>-0.126100</td>\n",
       "      <td>0.126100</td>\n",
       "    </tr>\n",
       "  </tbody>\n",
       "</table>\n",
       "</div>"
      ],
      "text/plain": [
       "                                   coef   abscoef\n",
       "searchstring_Data Engineer    -0.911522  0.911522\n",
       "elapsed                       -0.697373  0.697373\n",
       "jd_employment type            -0.473407  0.473407\n",
       "jd_role business              -0.417506  0.417506\n",
       "jd_role senior                 0.325439  0.325439\n",
       "ranked                         0.321924  0.321924\n",
       "jd_users well                  0.293312  0.293312\n",
       "jd_finance marketing          -0.263437  0.263437\n",
       "jd_engineer work              -0.247493  0.247493\n",
       "jd_scientist work              0.199015  0.199015\n",
       "jd_responsibilitiesthe senior  0.178769  0.178769\n",
       "Hospitality                   -0.176566  0.176566\n",
       "jd_responsibilitiesas data    -0.169711  0.169711\n",
       "Information Technology         0.161594  0.161594\n",
       "jd_manager senior             -0.159496  0.159496\n",
       "portal_Indeed                 -0.157977  0.157977\n",
       "None                          -0.157977  0.157977\n",
       "jd_three years                 0.135647  0.135647\n",
       "Others                        -0.131734  0.131734\n",
       "jd_employment                 -0.126100  0.126100"
      ]
     },
     "execution_count": 58,
     "metadata": {},
     "output_type": "execute_result"
    }
   ],
   "source": [
    "# get coefficients\n",
    "lrcoef = pd.DataFrame(logrbest.coef_.T, index=Xs_test.columns, columns=['coef'])\n",
    "lrcoef['abscoef'] = abs(lrcoef.coef)\n",
    "lrcoef.sort_values(by='abscoef', ascending=False).head(20)"
   ]
  },
  {
   "cell_type": "code",
   "execution_count": null,
   "metadata": {},
   "outputs": [],
   "source": [
    "# Run #1 currently #1 in terms of AUC score"
   ]
  },
  {
   "cell_type": "markdown",
   "metadata": {},
   "source": [
    "<div class=\"alert alert-warning\">\n",
    "    2. KNN Classifier + GridSearchCV"
   ]
  },
  {
   "cell_type": "code",
   "execution_count": 59,
   "metadata": {},
   "outputs": [
    {
     "name": "stdout",
     "output_type": "stream",
     "text": [
      "Fitting 5 folds for each of 50 candidates, totalling 250 fits\n"
     ]
    },
    {
     "name": "stderr",
     "output_type": "stream",
     "text": [
      "[Parallel(n_jobs=1)]: Using backend SequentialBackend with 1 concurrent workers.\n",
      "[Parallel(n_jobs=1)]: Done 250 out of 250 | elapsed: 49.6min finished\n"
     ]
    }
   ],
   "source": [
    "# Applying KNNClassifier using GridSearchCV to find optimum parameters\n",
    "\n",
    "knn_parameters = {\n",
    "    'n_neighbors':list(range(1, 49 + 1, 2)),\n",
    "    'weights':['uniform','distance']\n",
    "}\n",
    "\n",
    "knn_gridsearcher = GridSearchCV(KNeighborsClassifier(), knn_parameters, cv=5, verbose=1)\n",
    "knn_result = knn_gridsearcher.fit(Xs_train, y_train)"
   ]
  },
  {
   "cell_type": "code",
   "execution_count": 60,
   "metadata": {},
   "outputs": [
    {
     "name": "stdout",
     "output_type": "stream",
     "text": [
      "Best mean cross-validated score achieved: 0.5914149443561209\n",
      "Best parameters: {'n_neighbors': 25, 'weights': 'distance'}\n"
     ]
    }
   ],
   "source": [
    "print('Best mean cross-validated score achieved:', knn_result.best_score_)\n",
    "print('Best parameters:', knn_result.best_params_)"
   ]
  },
  {
   "cell_type": "code",
   "execution_count": 61,
   "metadata": {},
   "outputs": [
    {
     "name": "stdout",
     "output_type": "stream",
     "text": [
      "KNN Classification score: 0.6265822784810127\n",
      "Baseline: 0.5\n"
     ]
    }
   ],
   "source": [
    "knnbest = knn_result.best_estimator_\n",
    "print('KNN Classification score:', knnbest.score(Xs_test, y_test))\n",
    "print('Baseline:', baseline)"
   ]
  },
  {
   "cell_type": "code",
   "execution_count": 62,
   "metadata": {},
   "outputs": [
    {
     "data": {
      "text/plain": [
       "array([[56, 23],\n",
       "       [36, 43]], dtype=int64)"
      ]
     },
     "execution_count": 62,
     "metadata": {},
     "output_type": "execute_result"
    }
   ],
   "source": [
    "confusion_matrix(y_test, knnbest.predict(Xs_test))"
   ]
  },
  {
   "cell_type": "code",
   "execution_count": 63,
   "metadata": {},
   "outputs": [
    {
     "name": "stdout",
     "output_type": "stream",
     "text": [
      "              precision    recall  f1-score   support\n",
      "\n",
      "           0       0.61      0.71      0.65        79\n",
      "           1       0.65      0.54      0.59        79\n",
      "\n",
      "   micro avg       0.63      0.63      0.63       158\n",
      "   macro avg       0.63      0.63      0.62       158\n",
      "weighted avg       0.63      0.63      0.62       158\n",
      "\n"
     ]
    }
   ],
   "source": [
    "print(classification_report(y_test, knnbest.predict(Xs_test)))"
   ]
  },
  {
   "cell_type": "code",
   "execution_count": 64,
   "metadata": {},
   "outputs": [
    {
     "name": "stdout",
     "output_type": "stream",
     "text": [
      "KNN Classification AUC: 0.6265822784810127\n"
     ]
    }
   ],
   "source": [
    "fpr, tpr, _ = roc_curve(y_test, knnbest.predict(Xs_test))\n",
    "roc_auc = auc(fpr, tpr)\n",
    "\n",
    "print('KNN Classification AUC:', roc_auc)"
   ]
  },
  {
   "cell_type": "code",
   "execution_count": null,
   "metadata": {},
   "outputs": [],
   "source": [
    "# Run #1 still currently #1 in terms of AUC score"
   ]
  },
  {
   "cell_type": "markdown",
   "metadata": {},
   "source": [
    "<div class=\"alert alert-warning\">\n",
    "    3. SVM + GridSearchCV"
   ]
  },
  {
   "cell_type": "code",
   "execution_count": 65,
   "metadata": {},
   "outputs": [
    {
     "name": "stdout",
     "output_type": "stream",
     "text": [
      "Fitting 5 folds for each of 16 candidates, totalling 80 fits\n"
     ]
    },
    {
     "name": "stderr",
     "output_type": "stream",
     "text": [
      "[Parallel(n_jobs=1)]: Using backend SequentialBackend with 1 concurrent workers.\n",
      "[Parallel(n_jobs=1)]: Done  80 out of  80 | elapsed: 17.5min finished\n"
     ]
    }
   ],
   "source": [
    "# Applying SVM using GridSearchCV to find optimum parameters\n",
    "\n",
    "svm_parameters = {\n",
    "    'C': [0.01, 0.1, 1, 10],\n",
    "    'gamma': [0.001, 0.01, 0.1, 1]\n",
    "}\n",
    "\n",
    "svm_gridsearcher = GridSearchCV(SVC(kernel='rbf'), svm_parameters, cv=5, verbose=1)\n",
    "svm_result = svm_gridsearcher.fit(Xs_train, y_train)"
   ]
  },
  {
   "cell_type": "code",
   "execution_count": 66,
   "metadata": {},
   "outputs": [
    {
     "name": "stdout",
     "output_type": "stream",
     "text": [
      "Best mean cross-validated score achieved: 0.5548489666136724\n",
      "Best parameters: {'C': 10, 'gamma': 0.001}\n"
     ]
    }
   ],
   "source": [
    "print('Best mean cross-validated score achieved:', svm_result.best_score_)\n",
    "print('Best parameters:', svm_result.best_params_)"
   ]
  },
  {
   "cell_type": "code",
   "execution_count": 67,
   "metadata": {},
   "outputs": [
    {
     "name": "stdout",
     "output_type": "stream",
     "text": [
      "SVM Classification score: 0.569620253164557\n",
      "Baseline: 0.5\n"
     ]
    }
   ],
   "source": [
    "svmbest = svm_result.best_estimator_\n",
    "print('SVM Classification score:', svmbest.score(Xs_test, y_test))\n",
    "print('Baseline:', baseline)"
   ]
  },
  {
   "cell_type": "code",
   "execution_count": 68,
   "metadata": {},
   "outputs": [
    {
     "data": {
      "text/plain": [
       "array([[79,  0],\n",
       "       [68, 11]], dtype=int64)"
      ]
     },
     "execution_count": 68,
     "metadata": {},
     "output_type": "execute_result"
    }
   ],
   "source": [
    "confusion_matrix(y_test, svmbest.predict(Xs_test))"
   ]
  },
  {
   "cell_type": "code",
   "execution_count": 69,
   "metadata": {},
   "outputs": [
    {
     "name": "stdout",
     "output_type": "stream",
     "text": [
      "              precision    recall  f1-score   support\n",
      "\n",
      "           0       0.54      1.00      0.70        79\n",
      "           1       1.00      0.14      0.24        79\n",
      "\n",
      "   micro avg       0.57      0.57      0.57       158\n",
      "   macro avg       0.77      0.57      0.47       158\n",
      "weighted avg       0.77      0.57      0.47       158\n",
      "\n"
     ]
    }
   ],
   "source": [
    "print(classification_report(y_test, svmbest.predict(Xs_test)))"
   ]
  },
  {
   "cell_type": "code",
   "execution_count": 70,
   "metadata": {},
   "outputs": [
    {
     "name": "stdout",
     "output_type": "stream",
     "text": [
      "SVM Classification AUC: 0.569620253164557\n"
     ]
    }
   ],
   "source": [
    "fpr, tpr, _ = roc_curve(y_test, svmbest.predict(Xs_test))\n",
    "roc_auc = auc(fpr, tpr)\n",
    "\n",
    "print('SVM Classification AUC:', roc_auc)"
   ]
  },
  {
   "cell_type": "code",
   "execution_count": null,
   "metadata": {},
   "outputs": [],
   "source": [
    "# Run #1 still currently #1 in terms of AUC score"
   ]
  },
  {
   "cell_type": "markdown",
   "metadata": {},
   "source": [
    "<div class=\"alert alert-warning\">\n",
    "    4. Random Forest Classifier + GridSearchCV"
   ]
  },
  {
   "cell_type": "code",
   "execution_count": 71,
   "metadata": {},
   "outputs": [
    {
     "name": "stdout",
     "output_type": "stream",
     "text": [
      "Fitting 5 folds for each of 72 candidates, totalling 360 fits\n"
     ]
    },
    {
     "name": "stderr",
     "output_type": "stream",
     "text": [
      "[Parallel(n_jobs=1)]: Using backend SequentialBackend with 1 concurrent workers.\n",
      "[Parallel(n_jobs=1)]: Done 360 out of 360 | elapsed:  6.2min finished\n"
     ]
    }
   ],
   "source": [
    "# Applying Random Forest Classifier using GridSearchCV to find optimum parameters\n",
    "\n",
    "ranf_parameters = {\n",
    "    'n_estimators': [100, 200, 500, 800],\n",
    "    'max_features': ['auto', 'sqrt', 'log2'],\n",
    "    'max_depth' : [4,6,8],\n",
    "    'criterion' :['gini', 'entropy']\n",
    "}\n",
    "\n",
    "ranf_gridsearcher = GridSearchCV(RandomForestClassifier(), ranf_parameters, cv=5, verbose=1)\n",
    "ranf_result = ranf_gridsearcher.fit(Xs_train, y_train)"
   ]
  },
  {
   "cell_type": "code",
   "execution_count": 72,
   "metadata": {},
   "outputs": [
    {
     "name": "stdout",
     "output_type": "stream",
     "text": [
      "Best mean cross-validated score achieved: 0.6947535771065183\n",
      "Best parameters: {'criterion': 'gini', 'max_depth': 8, 'max_features': 'auto', 'n_estimators': 800}\n"
     ]
    }
   ],
   "source": [
    "print('Best mean cross-validated score achieved:', ranf_result.best_score_)\n",
    "print('Best parameters:', ranf_result.best_params_)"
   ]
  },
  {
   "cell_type": "code",
   "execution_count": 73,
   "metadata": {},
   "outputs": [
    {
     "name": "stdout",
     "output_type": "stream",
     "text": [
      "Random Forest Classification score: 0.6962025316455697\n",
      "Baseline: 0.5\n"
     ]
    }
   ],
   "source": [
    "ranfbest = ranf_result.best_estimator_\n",
    "print('Random Forest Classification score:', ranfbest.score(Xs_test, y_test))\n",
    "print('Baseline:', baseline)"
   ]
  },
  {
   "cell_type": "code",
   "execution_count": 74,
   "metadata": {},
   "outputs": [
    {
     "data": {
      "text/plain": [
       "array([[59, 20],\n",
       "       [28, 51]], dtype=int64)"
      ]
     },
     "execution_count": 74,
     "metadata": {},
     "output_type": "execute_result"
    }
   ],
   "source": [
    "confusion_matrix(y_test, ranfbest.predict(Xs_test))"
   ]
  },
  {
   "cell_type": "code",
   "execution_count": 75,
   "metadata": {},
   "outputs": [
    {
     "name": "stdout",
     "output_type": "stream",
     "text": [
      "              precision    recall  f1-score   support\n",
      "\n",
      "           0       0.68      0.75      0.71        79\n",
      "           1       0.72      0.65      0.68        79\n",
      "\n",
      "   micro avg       0.70      0.70      0.70       158\n",
      "   macro avg       0.70      0.70      0.70       158\n",
      "weighted avg       0.70      0.70      0.70       158\n",
      "\n"
     ]
    }
   ],
   "source": [
    "print(classification_report(y_test, ranfbest.predict(Xs_test)))"
   ]
  },
  {
   "cell_type": "code",
   "execution_count": 76,
   "metadata": {},
   "outputs": [
    {
     "name": "stdout",
     "output_type": "stream",
     "text": [
      "Random Forest Classification AUC: 0.6962025316455696\n"
     ]
    }
   ],
   "source": [
    "fpr, tpr, _ = roc_curve(y_test, ranfbest.predict(Xs_test))\n",
    "roc_auc = auc(fpr, tpr)\n",
    "\n",
    "print('Random Forest Classification AUC:', roc_auc)"
   ]
  },
  {
   "cell_type": "code",
   "execution_count": 77,
   "metadata": {
    "scrolled": true
   },
   "outputs": [],
   "source": [
    "# Import tools needed for visualization\n",
    "from sklearn.tree import export_graphviz\n",
    "import pydot\n",
    "# Pull out one tree from the forest\n",
    "tree = ranfbest.estimators_[5]\n",
    "\n",
    "# Export the image to a dot file\n",
    "export_graphviz(tree, out_file = 'tree.dot', feature_names = X_test.columns, rounded = True, precision = 1)\n",
    "# Use dot file to create a graph\n",
    "(graph, ) = pydot.graph_from_dot_file('tree.dot')\n",
    "# Write graph to a png file\n",
    "graph.write_png('tree.png')\n"
   ]
  },
  {
   "cell_type": "code",
   "execution_count": 78,
   "metadata": {},
   "outputs": [
    {
     "data": {
      "text/plain": [
       "['Variable: ranked               Importance: 0.0125',\n",
       " 'Variable: jd_diploma           Importance: 0.0066',\n",
       " 'Variable: jd_understanding     Importance: 0.0056',\n",
       " 'Variable: jd_banking           Importance: 0.0055',\n",
       " 'Variable: jd_complex           Importance: 0.0055',\n",
       " 'Variable: jd_system            Importance: 0.0046',\n",
       " 'Variable: jd_business          Importance: 0.0045',\n",
       " 'Variable: jd_architecture      Importance: 0.0043',\n",
       " 'Variable: jd_proven            Importance: 0.0041',\n",
       " 'Variable: jd_duties            Importance: 0.0039',\n",
       " 'Variable: Information Technology Importance: 0.0038',\n",
       " 'Variable: searchstring_Data    Importance: 0.0038',\n",
       " 'Variable: jd_solutions         Importance: 0.0036',\n",
       " 'Variable: jd_drive             Importance: 0.0035',\n",
       " 'Variable: jd_functional        Importance: 0.0035',\n",
       " 'Variable: jd_scale             Importance: 0.0035',\n",
       " 'Variable: jd_teams             Importance: 0.0035',\n",
       " 'Variable: elapsed              Importance: 0.0034',\n",
       " 'Variable: jd_strategy          Importance: 0.0034',\n",
       " 'Variable: jd_collaborate       Importance: 0.0033']"
      ]
     },
     "execution_count": 78,
     "metadata": {},
     "output_type": "execute_result"
    }
   ],
   "source": [
    "# Get numerical feature importances\n",
    "importances = list(ranfbest.feature_importances_)\n",
    "# List of tuples with variable and importance\n",
    "feature_importances = [(feature, round(importance, 4)) for feature, \\\n",
    "                       importance in zip(X_test.columns, importances)]\n",
    "# Sort the feature importances by most important first\n",
    "feature_importances = sorted(feature_importances, key = lambda x: x[1], reverse = True)\n",
    "# drop those with importance <=0\n",
    "#[feature_importances.remove(pair) for pair in feature_importances if pair[1]<=0]\n",
    "# Print out the feature and importances \n",
    "['Variable: {:20} Importance: {}'.format(*pair) for pair in feature_importances[:20]]"
   ]
  },
  {
   "cell_type": "code",
   "execution_count": null,
   "metadata": {},
   "outputs": [],
   "source": [
    "# Run #4 currently #1 in terms of AUC score"
   ]
  },
  {
   "cell_type": "markdown",
   "metadata": {},
   "source": [
    "<div class=\"alert alert-warning\">\n",
    "    5. Random Forest Classifier + GridSearchCV with top 20 features from #4. "
   ]
  },
  {
   "cell_type": "code",
   "execution_count": 148,
   "metadata": {},
   "outputs": [],
   "source": [
    "# let's try a new random forest using only the top 20 features and see how it fares \n",
    "notranftopfeatures = [x[0] for x in feature_importances[20:]]"
   ]
  },
  {
   "cell_type": "code",
   "execution_count": 149,
   "metadata": {},
   "outputs": [],
   "source": [
    "# reducing columns in X test and train sets\n",
    "Xs_train.drop(columns=notranftopfeatures, inplace=True)\n",
    "Xs_test.drop(columns=notranftopfeatures, inplace=True)"
   ]
  },
  {
   "cell_type": "code",
   "execution_count": 150,
   "metadata": {},
   "outputs": [
    {
     "data": {
      "text/plain": [
       "(629, 20)"
      ]
     },
     "execution_count": 150,
     "metadata": {},
     "output_type": "execute_result"
    }
   ],
   "source": [
    "Xs_train.shape"
   ]
  },
  {
   "cell_type": "code",
   "execution_count": 151,
   "metadata": {},
   "outputs": [
    {
     "data": {
      "text/plain": [
       "Index(['elapsed', 'ranked', 'Information Technology', 'searchstring_Data',\n",
       "       'jd_architecture', 'jd_banking', 'jd_business', 'jd_collaborate',\n",
       "       'jd_complex', 'jd_diploma', 'jd_drive', 'jd_duties', 'jd_functional',\n",
       "       'jd_proven', 'jd_scale', 'jd_solutions', 'jd_strategy', 'jd_system',\n",
       "       'jd_teams', 'jd_understanding'],\n",
       "      dtype='object')"
      ]
     },
     "execution_count": 151,
     "metadata": {},
     "output_type": "execute_result"
    }
   ],
   "source": [
    "Xs_test.columns"
   ]
  },
  {
   "cell_type": "code",
   "execution_count": 152,
   "metadata": {},
   "outputs": [
    {
     "name": "stdout",
     "output_type": "stream",
     "text": [
      "Fitting 5 folds for each of 72 candidates, totalling 360 fits\n"
     ]
    },
    {
     "name": "stderr",
     "output_type": "stream",
     "text": [
      "[Parallel(n_jobs=1)]: Using backend SequentialBackend with 1 concurrent workers.\n",
      "[Parallel(n_jobs=1)]: Done 360 out of 360 | elapsed:  2.5min finished\n"
     ]
    }
   ],
   "source": [
    "# Applying Random Forest Classifier using GridSearchCV to find optimum parameters\n",
    "\n",
    "ranf_parameters = {\n",
    "    'n_estimators': [100, 200, 500, 800],\n",
    "    'max_features': ['auto', 'sqrt', 'log2'],\n",
    "    'max_depth' : [4,6,8],\n",
    "    'criterion' :['gini', 'entropy']\n",
    "}\n",
    "\n",
    "ranf_gridsearcher = GridSearchCV(RandomForestClassifier(), ranf_parameters, cv=5, verbose=1)\n",
    "ranf_result = ranf_gridsearcher.fit(Xs_train, y_train)\n"
   ]
  },
  {
   "cell_type": "code",
   "execution_count": 153,
   "metadata": {},
   "outputs": [
    {
     "name": "stdout",
     "output_type": "stream",
     "text": [
      "Best mean cross-validated score achieved: 0.7217806041335453\n",
      "Best parameters: {'criterion': 'entropy', 'max_depth': 6, 'max_features': 'sqrt', 'n_estimators': 500}\n"
     ]
    }
   ],
   "source": [
    "print('Best mean cross-validated score achieved:', ranf_result.best_score_)\n",
    "print('Best parameters:', ranf_result.best_params_)"
   ]
  },
  {
   "cell_type": "code",
   "execution_count": 154,
   "metadata": {},
   "outputs": [
    {
     "name": "stdout",
     "output_type": "stream",
     "text": [
      "Random Forest Classification score: 0.6645569620253164\n",
      "Baseline: 0.5\n"
     ]
    }
   ],
   "source": [
    "ranfbest = ranf_result.best_estimator_\n",
    "print('Random Forest Classification score:', ranfbest.score(Xs_test, y_test))\n",
    "print('Baseline:', baseline)"
   ]
  },
  {
   "cell_type": "code",
   "execution_count": 155,
   "metadata": {},
   "outputs": [
    {
     "data": {
      "text/html": [
       "<div>\n",
       "<style scoped>\n",
       "    .dataframe tbody tr th:only-of-type {\n",
       "        vertical-align: middle;\n",
       "    }\n",
       "\n",
       "    .dataframe tbody tr th {\n",
       "        vertical-align: top;\n",
       "    }\n",
       "\n",
       "    .dataframe thead th {\n",
       "        text-align: right;\n",
       "    }\n",
       "</style>\n",
       "<table border=\"1\" class=\"dataframe\">\n",
       "  <thead>\n",
       "    <tr style=\"text-align: right;\">\n",
       "      <th></th>\n",
       "      <th>rfcoef</th>\n",
       "    </tr>\n",
       "  </thead>\n",
       "  <tbody>\n",
       "    <tr>\n",
       "      <th>ranked</th>\n",
       "      <td>0.145496</td>\n",
       "    </tr>\n",
       "    <tr>\n",
       "      <th>elapsed</th>\n",
       "      <td>0.077849</td>\n",
       "    </tr>\n",
       "    <tr>\n",
       "      <th>jd_diploma</th>\n",
       "      <td>0.072004</td>\n",
       "    </tr>\n",
       "    <tr>\n",
       "      <th>jd_business</th>\n",
       "      <td>0.060214</td>\n",
       "    </tr>\n",
       "    <tr>\n",
       "      <th>jd_functional</th>\n",
       "      <td>0.059504</td>\n",
       "    </tr>\n",
       "    <tr>\n",
       "      <th>jd_banking</th>\n",
       "      <td>0.056690</td>\n",
       "    </tr>\n",
       "    <tr>\n",
       "      <th>jd_architecture</th>\n",
       "      <td>0.055374</td>\n",
       "    </tr>\n",
       "    <tr>\n",
       "      <th>jd_understanding</th>\n",
       "      <td>0.049049</td>\n",
       "    </tr>\n",
       "    <tr>\n",
       "      <th>jd_solutions</th>\n",
       "      <td>0.044548</td>\n",
       "    </tr>\n",
       "    <tr>\n",
       "      <th>jd_strategy</th>\n",
       "      <td>0.043893</td>\n",
       "    </tr>\n",
       "    <tr>\n",
       "      <th>jd_complex</th>\n",
       "      <td>0.043060</td>\n",
       "    </tr>\n",
       "    <tr>\n",
       "      <th>Information Technology</th>\n",
       "      <td>0.043006</td>\n",
       "    </tr>\n",
       "    <tr>\n",
       "      <th>jd_teams</th>\n",
       "      <td>0.041618</td>\n",
       "    </tr>\n",
       "    <tr>\n",
       "      <th>jd_system</th>\n",
       "      <td>0.040861</td>\n",
       "    </tr>\n",
       "    <tr>\n",
       "      <th>jd_drive</th>\n",
       "      <td>0.036269</td>\n",
       "    </tr>\n",
       "    <tr>\n",
       "      <th>jd_proven</th>\n",
       "      <td>0.031752</td>\n",
       "    </tr>\n",
       "    <tr>\n",
       "      <th>jd_scale</th>\n",
       "      <td>0.027783</td>\n",
       "    </tr>\n",
       "    <tr>\n",
       "      <th>jd_duties</th>\n",
       "      <td>0.025360</td>\n",
       "    </tr>\n",
       "    <tr>\n",
       "      <th>searchstring_Data</th>\n",
       "      <td>0.025032</td>\n",
       "    </tr>\n",
       "    <tr>\n",
       "      <th>jd_collaborate</th>\n",
       "      <td>0.020639</td>\n",
       "    </tr>\n",
       "  </tbody>\n",
       "</table>\n",
       "</div>"
      ],
      "text/plain": [
       "                          rfcoef\n",
       "ranked                  0.145496\n",
       "elapsed                 0.077849\n",
       "jd_diploma              0.072004\n",
       "jd_business             0.060214\n",
       "jd_functional           0.059504\n",
       "jd_banking              0.056690\n",
       "jd_architecture         0.055374\n",
       "jd_understanding        0.049049\n",
       "jd_solutions            0.044548\n",
       "jd_strategy             0.043893\n",
       "jd_complex              0.043060\n",
       "Information Technology  0.043006\n",
       "jd_teams                0.041618\n",
       "jd_system               0.040861\n",
       "jd_drive                0.036269\n",
       "jd_proven               0.031752\n",
       "jd_scale                0.027783\n",
       "jd_duties               0.025360\n",
       "searchstring_Data       0.025032\n",
       "jd_collaborate          0.020639"
      ]
     },
     "execution_count": 155,
     "metadata": {},
     "output_type": "execute_result"
    }
   ],
   "source": [
    "# Get numerical feature importances\n",
    "importances = list(ranfbest.feature_importances_)\n",
    "# get coefficients\n",
    "rfcoef = pd.DataFrame(importances, index=Xs_test.columns, columns=['rfcoef'])\n",
    "rfcoef.sort_values(by='rfcoef', ascending=False)"
   ]
  },
  {
   "cell_type": "markdown",
   "metadata": {},
   "source": [
    "## <div class=\"alert alert-warning\">\n",
    "<ul><li>between test #4 and #5, the difference in AUC (0.6962 vs 0.66455) is ~3% with only the top 20 out of an initial 20,000+ features! \n",
    "<li>we now have a list of features that we know are important to predicting salary BUT we do not know whether these are +vely or -vely correlated to salary.\n",
    "<li>for that, let's go back to logistic regression and run a model with just the top 20 features we extracted from random forest. </ul>\n",
    "    "
   ]
  },
  {
   "cell_type": "code",
   "execution_count": 156,
   "metadata": {},
   "outputs": [],
   "source": [
    "# Run #4 currently #1 in terms of AUC score"
   ]
  },
  {
   "cell_type": "markdown",
   "metadata": {},
   "source": [
    "<div class=\"alert alert-warning\">\n",
    "    6. Logistic Regression + GridSearchCV with top 20 features from #4. "
   ]
  },
  {
   "cell_type": "code",
   "execution_count": 157,
   "metadata": {},
   "outputs": [],
   "source": [
    "# generic function for GridSearchCV method for classification probs\n",
    "def gscv(method, prefix, cv, Xtrain, ytrain, Xtest, ytest):\n",
    "\n",
    "    gridsearcher = GridSearchCV(method, param_grid=prefix,cv=cv, verbose=1)\n",
    "    result = gridsearcher.fit(Xtrain, ytrain)\n",
    "\n",
    "    #print('Best mean cross-validated score achieved:', result.best_score_)\n",
    "    print('Best parameters:', result.best_params_)\n",
    "    # this is the accuracy score ie. tp+tn/totpopn\n",
    "    best = result.best_estimator_\n",
    "    print('Logistic Regression Classification score:', best.score(Xtest, ytest))\n",
    "    print('Baseline:', baseline)\n",
    "    # confusion matrix\n",
    "    print(confusion_matrix(ytest, best.predict(Xtest)))\n",
    "    # classification report\n",
    "    print(classification_report(ytest, best.predict(Xtest)))\n",
    "    # get AUC / ROC\n",
    "    fpr, tpr, _ = roc_curve(ytest, best.predict(Xtest))\n",
    "    roc_auc = auc(fpr, tpr)\n",
    "    print('Logistic Regression Classification AUC:', roc_auc)\n",
    "    return best"
   ]
  },
  {
   "cell_type": "code",
   "execution_count": 158,
   "metadata": {},
   "outputs": [
    {
     "name": "stdout",
     "output_type": "stream",
     "text": [
      "Fitting 5 folds for each of 40 candidates, totalling 200 fits\n"
     ]
    },
    {
     "name": "stderr",
     "output_type": "stream",
     "text": [
      "[Parallel(n_jobs=1)]: Using backend SequentialBackend with 1 concurrent workers.\n"
     ]
    },
    {
     "name": "stdout",
     "output_type": "stream",
     "text": [
      "Best parameters: {'C': 1.6237767391887217, 'penalty': 'l1', 'solver': 'liblinear'}\n",
      "Logistic Regression Classification score: 0.6455696202531646\n",
      "Baseline: 0.5\n",
      "[[49 30]\n",
      " [26 53]]\n",
      "              precision    recall  f1-score   support\n",
      "\n",
      "           0       0.65      0.62      0.64        79\n",
      "           1       0.64      0.67      0.65        79\n",
      "\n",
      "   micro avg       0.65      0.65      0.65       158\n",
      "   macro avg       0.65      0.65      0.65       158\n",
      "weighted avg       0.65      0.65      0.65       158\n",
      "\n",
      "Logistic Regression Classification AUC: 0.6455696202531646\n"
     ]
    },
    {
     "name": "stderr",
     "output_type": "stream",
     "text": [
      "[Parallel(n_jobs=1)]: Done 200 out of 200 | elapsed:    0.7s finished\n"
     ]
    }
   ],
   "source": [
    "logr = gscv(LogisticRegression(), logr_parameters, 5, Xs_train, y_train, Xs_test, y_test)"
   ]
  },
  {
   "cell_type": "code",
   "execution_count": 159,
   "metadata": {},
   "outputs": [],
   "source": [
    "# Run #4 currently #1 in terms of AUC score "
   ]
  },
  {
   "cell_type": "code",
   "execution_count": 160,
   "metadata": {},
   "outputs": [
    {
     "data": {
      "text/html": [
       "<div>\n",
       "<style scoped>\n",
       "    .dataframe tbody tr th:only-of-type {\n",
       "        vertical-align: middle;\n",
       "    }\n",
       "\n",
       "    .dataframe tbody tr th {\n",
       "        vertical-align: top;\n",
       "    }\n",
       "\n",
       "    .dataframe thead th {\n",
       "        text-align: right;\n",
       "    }\n",
       "</style>\n",
       "<table border=\"1\" class=\"dataframe\">\n",
       "  <thead>\n",
       "    <tr style=\"text-align: right;\">\n",
       "      <th></th>\n",
       "      <th>lrcoef</th>\n",
       "      <th>lrabscoef</th>\n",
       "    </tr>\n",
       "  </thead>\n",
       "  <tbody>\n",
       "    <tr>\n",
       "      <th>jd_functional</th>\n",
       "      <td>0.415603</td>\n",
       "      <td>0.415603</td>\n",
       "    </tr>\n",
       "    <tr>\n",
       "      <th>jd_diploma</th>\n",
       "      <td>-0.375189</td>\n",
       "      <td>0.375189</td>\n",
       "    </tr>\n",
       "    <tr>\n",
       "      <th>jd_system</th>\n",
       "      <td>-0.332494</td>\n",
       "      <td>0.332494</td>\n",
       "    </tr>\n",
       "    <tr>\n",
       "      <th>ranked</th>\n",
       "      <td>0.331363</td>\n",
       "      <td>0.331363</td>\n",
       "    </tr>\n",
       "    <tr>\n",
       "      <th>Information Technology</th>\n",
       "      <td>0.316604</td>\n",
       "      <td>0.316604</td>\n",
       "    </tr>\n",
       "    <tr>\n",
       "      <th>jd_architecture</th>\n",
       "      <td>0.310367</td>\n",
       "      <td>0.310367</td>\n",
       "    </tr>\n",
       "    <tr>\n",
       "      <th>jd_banking</th>\n",
       "      <td>0.296332</td>\n",
       "      <td>0.296332</td>\n",
       "    </tr>\n",
       "    <tr>\n",
       "      <th>searchstring_Data</th>\n",
       "      <td>-0.272723</td>\n",
       "      <td>0.272723</td>\n",
       "    </tr>\n",
       "    <tr>\n",
       "      <th>jd_scale</th>\n",
       "      <td>0.262970</td>\n",
       "      <td>0.262970</td>\n",
       "    </tr>\n",
       "    <tr>\n",
       "      <th>jd_strategy</th>\n",
       "      <td>0.247293</td>\n",
       "      <td>0.247293</td>\n",
       "    </tr>\n",
       "    <tr>\n",
       "      <th>jd_duties</th>\n",
       "      <td>-0.242042</td>\n",
       "      <td>0.242042</td>\n",
       "    </tr>\n",
       "    <tr>\n",
       "      <th>jd_understanding</th>\n",
       "      <td>0.222044</td>\n",
       "      <td>0.222044</td>\n",
       "    </tr>\n",
       "    <tr>\n",
       "      <th>jd_collaborate</th>\n",
       "      <td>0.211895</td>\n",
       "      <td>0.211895</td>\n",
       "    </tr>\n",
       "    <tr>\n",
       "      <th>jd_proven</th>\n",
       "      <td>0.190864</td>\n",
       "      <td>0.190864</td>\n",
       "    </tr>\n",
       "    <tr>\n",
       "      <th>jd_drive</th>\n",
       "      <td>0.163395</td>\n",
       "      <td>0.163395</td>\n",
       "    </tr>\n",
       "    <tr>\n",
       "      <th>jd_complex</th>\n",
       "      <td>0.140601</td>\n",
       "      <td>0.140601</td>\n",
       "    </tr>\n",
       "    <tr>\n",
       "      <th>elapsed</th>\n",
       "      <td>-0.062250</td>\n",
       "      <td>0.062250</td>\n",
       "    </tr>\n",
       "    <tr>\n",
       "      <th>jd_business</th>\n",
       "      <td>-0.036022</td>\n",
       "      <td>0.036022</td>\n",
       "    </tr>\n",
       "    <tr>\n",
       "      <th>jd_teams</th>\n",
       "      <td>-0.012466</td>\n",
       "      <td>0.012466</td>\n",
       "    </tr>\n",
       "    <tr>\n",
       "      <th>jd_solutions</th>\n",
       "      <td>-0.008643</td>\n",
       "      <td>0.008643</td>\n",
       "    </tr>\n",
       "  </tbody>\n",
       "</table>\n",
       "</div>"
      ],
      "text/plain": [
       "                          lrcoef  lrabscoef\n",
       "jd_functional           0.415603   0.415603\n",
       "jd_diploma             -0.375189   0.375189\n",
       "jd_system              -0.332494   0.332494\n",
       "ranked                  0.331363   0.331363\n",
       "Information Technology  0.316604   0.316604\n",
       "jd_architecture         0.310367   0.310367\n",
       "jd_banking              0.296332   0.296332\n",
       "searchstring_Data      -0.272723   0.272723\n",
       "jd_scale                0.262970   0.262970\n",
       "jd_strategy             0.247293   0.247293\n",
       "jd_duties              -0.242042   0.242042\n",
       "jd_understanding        0.222044   0.222044\n",
       "jd_collaborate          0.211895   0.211895\n",
       "jd_proven               0.190864   0.190864\n",
       "jd_drive                0.163395   0.163395\n",
       "jd_complex              0.140601   0.140601\n",
       "elapsed                -0.062250   0.062250\n",
       "jd_business            -0.036022   0.036022\n",
       "jd_teams               -0.012466   0.012466\n",
       "jd_solutions           -0.008643   0.008643"
      ]
     },
     "execution_count": 160,
     "metadata": {},
     "output_type": "execute_result"
    }
   ],
   "source": [
    "# get coefficients\n",
    "lrcoef = pd.DataFrame(logr.coef_.T, index=Xs_test.columns, columns=['lrcoef'])\n",
    "lrcoef['lrabscoef'] = abs(lrcoef.lrcoef)\n",
    "lrcoef.sort_values(by='lrabscoef', ascending=False)"
   ]
  },
  {
   "cell_type": "code",
   "execution_count": 161,
   "metadata": {},
   "outputs": [],
   "source": [
    "#let's combine this list of coefficients from run #6 with run #5"
   ]
  },
  {
   "cell_type": "code",
   "execution_count": 162,
   "metadata": {},
   "outputs": [],
   "source": [
    "coefdf = pd.merge(lrcoef, rfcoef, how='inner', left_index=True, right_index=True)"
   ]
  },
  {
   "cell_type": "code",
   "execution_count": 163,
   "metadata": {},
   "outputs": [
    {
     "data": {
      "text/html": [
       "<div>\n",
       "<style scoped>\n",
       "    .dataframe tbody tr th:only-of-type {\n",
       "        vertical-align: middle;\n",
       "    }\n",
       "\n",
       "    .dataframe tbody tr th {\n",
       "        vertical-align: top;\n",
       "    }\n",
       "\n",
       "    .dataframe thead th {\n",
       "        text-align: right;\n",
       "    }\n",
       "</style>\n",
       "<table border=\"1\" class=\"dataframe\">\n",
       "  <thead>\n",
       "    <tr style=\"text-align: right;\">\n",
       "      <th></th>\n",
       "      <th>lrcoef</th>\n",
       "      <th>lrabscoef</th>\n",
       "      <th>rfcoef</th>\n",
       "      <th>lrrank</th>\n",
       "      <th>rfrank</th>\n",
       "      <th>avgrank</th>\n",
       "    </tr>\n",
       "  </thead>\n",
       "  <tbody>\n",
       "    <tr>\n",
       "      <th>jd_diploma</th>\n",
       "      <td>-0.375189</td>\n",
       "      <td>0.375189</td>\n",
       "      <td>0.072004</td>\n",
       "      <td>2.0</td>\n",
       "      <td>3.0</td>\n",
       "      <td>2.5</td>\n",
       "    </tr>\n",
       "    <tr>\n",
       "      <th>ranked</th>\n",
       "      <td>0.331363</td>\n",
       "      <td>0.331363</td>\n",
       "      <td>0.145496</td>\n",
       "      <td>4.0</td>\n",
       "      <td>1.0</td>\n",
       "      <td>2.5</td>\n",
       "    </tr>\n",
       "    <tr>\n",
       "      <th>jd_functional</th>\n",
       "      <td>0.415603</td>\n",
       "      <td>0.415603</td>\n",
       "      <td>0.059504</td>\n",
       "      <td>1.0</td>\n",
       "      <td>5.0</td>\n",
       "      <td>3.0</td>\n",
       "    </tr>\n",
       "    <tr>\n",
       "      <th>jd_architecture</th>\n",
       "      <td>0.310367</td>\n",
       "      <td>0.310367</td>\n",
       "      <td>0.055374</td>\n",
       "      <td>6.0</td>\n",
       "      <td>7.0</td>\n",
       "      <td>6.5</td>\n",
       "    </tr>\n",
       "    <tr>\n",
       "      <th>jd_banking</th>\n",
       "      <td>0.296332</td>\n",
       "      <td>0.296332</td>\n",
       "      <td>0.056690</td>\n",
       "      <td>7.0</td>\n",
       "      <td>6.0</td>\n",
       "      <td>6.5</td>\n",
       "    </tr>\n",
       "    <tr>\n",
       "      <th>Information Technology</th>\n",
       "      <td>0.316604</td>\n",
       "      <td>0.316604</td>\n",
       "      <td>0.043006</td>\n",
       "      <td>5.0</td>\n",
       "      <td>12.0</td>\n",
       "      <td>8.5</td>\n",
       "    </tr>\n",
       "    <tr>\n",
       "      <th>jd_system</th>\n",
       "      <td>-0.332494</td>\n",
       "      <td>0.332494</td>\n",
       "      <td>0.040861</td>\n",
       "      <td>3.0</td>\n",
       "      <td>14.0</td>\n",
       "      <td>8.5</td>\n",
       "    </tr>\n",
       "    <tr>\n",
       "      <th>elapsed</th>\n",
       "      <td>-0.062250</td>\n",
       "      <td>0.062250</td>\n",
       "      <td>0.077849</td>\n",
       "      <td>17.0</td>\n",
       "      <td>2.0</td>\n",
       "      <td>9.5</td>\n",
       "    </tr>\n",
       "    <tr>\n",
       "      <th>jd_strategy</th>\n",
       "      <td>0.247293</td>\n",
       "      <td>0.247293</td>\n",
       "      <td>0.043893</td>\n",
       "      <td>10.0</td>\n",
       "      <td>10.0</td>\n",
       "      <td>10.0</td>\n",
       "    </tr>\n",
       "    <tr>\n",
       "      <th>jd_understanding</th>\n",
       "      <td>0.222044</td>\n",
       "      <td>0.222044</td>\n",
       "      <td>0.049049</td>\n",
       "      <td>12.0</td>\n",
       "      <td>8.0</td>\n",
       "      <td>10.0</td>\n",
       "    </tr>\n",
       "  </tbody>\n",
       "</table>\n",
       "</div>"
      ],
      "text/plain": [
       "                          lrcoef  lrabscoef    rfcoef  lrrank  rfrank  avgrank\n",
       "jd_diploma             -0.375189   0.375189  0.072004     2.0     3.0      2.5\n",
       "ranked                  0.331363   0.331363  0.145496     4.0     1.0      2.5\n",
       "jd_functional           0.415603   0.415603  0.059504     1.0     5.0      3.0\n",
       "jd_architecture         0.310367   0.310367  0.055374     6.0     7.0      6.5\n",
       "jd_banking              0.296332   0.296332  0.056690     7.0     6.0      6.5\n",
       "Information Technology  0.316604   0.316604  0.043006     5.0    12.0      8.5\n",
       "jd_system              -0.332494   0.332494  0.040861     3.0    14.0      8.5\n",
       "elapsed                -0.062250   0.062250  0.077849    17.0     2.0      9.5\n",
       "jd_strategy             0.247293   0.247293  0.043893    10.0    10.0     10.0\n",
       "jd_understanding        0.222044   0.222044  0.049049    12.0     8.0     10.0"
      ]
     },
     "execution_count": 163,
     "metadata": {},
     "output_type": "execute_result"
    }
   ],
   "source": [
    "# let's get the avg rank of the coefs based on logistic regression and random forest methods\n",
    "# and sort them to find the top factors\n",
    "\n",
    "coefdf[\"lrrank\"] = coefdf[\"lrabscoef\"].rank(ascending=False)\n",
    "coefdf[\"rfrank\"] = coefdf[\"rfcoef\"].rank(ascending=False)\n",
    "coefdf['avgrank'] = (coefdf.lrrank+coefdf.rfrank)/2\n",
    "coefdf.sort_values(by='avgrank')[:10]"
   ]
  },
  {
   "cell_type": "code",
   "execution_count": 164,
   "metadata": {},
   "outputs": [
    {
     "data": {
      "text/plain": [
       "jd_functional                   339\n",
       "jd_cross functional              75\n",
       "jd_functional specifications     45\n",
       "jd_functional teams              32\n",
       "jd_functional requirements       21\n",
       "jd_functionality                 15\n",
       "jd_functional team               14\n",
       "jd_business functional           14\n",
       "jd_functionally                  12\n",
       "jd_functional knowledge          12\n",
       "dtype: int64"
      ]
     },
     "execution_count": 164,
     "metadata": {},
     "output_type": "execute_result"
    }
   ],
   "source": [
    "X.filter(like='functional').sum().sort_values(ascending=False)[:10]"
   ]
  },
  {
   "cell_type": "code",
   "execution_count": 165,
   "metadata": {},
   "outputs": [
    {
     "data": {
      "text/plain": [
       "jd_architecture                 227\n",
       "jd_architectures                 41\n",
       "jd_data architecture             31\n",
       "jd_architecture design           21\n",
       "jd_enterprise architecture       14\n",
       "jd_software architecture          8\n",
       "jd_architecture data              8\n",
       "jd_technical architecture         7\n",
       "jd_requirements architecture      7\n",
       "jd_information architecture       6\n",
       "dtype: int64"
      ]
     },
     "execution_count": 165,
     "metadata": {},
     "output_type": "execute_result"
    }
   ],
   "source": [
    "X.filter(like='architecture').sum().sort_values(ascending=False)[:10]"
   ]
  },
  {
   "cell_type": "code",
   "execution_count": null,
   "metadata": {},
   "outputs": [],
   "source": []
  },
  {
   "cell_type": "markdown",
   "metadata": {},
   "source": [
    "<div class=\"alert alert-warning\">\n",
    "    <b> CONCLUSION: </b>\n",
    "    <ul><li>Having only a diploma detracts from a higher pay. This is the number one factor impacting salary. \n",
    "<li>Despite incomplete data, number of years of experience on the job and the type of job ('professional' or not) also plays a big part.\n",
    "<li>'Function' and 'Architecture' also rank highly with positive correlation to above avg salary, so we can infer that having 'practical' and 'practicing' knowledge of 'frameworks' is quite important.\n",
    "<li>Companies in the 'Information Technology' and 'banking' industry appear to pay higher than avg salaries, as do more recent ads.     \n",
    "</ul>\n",
    "    "
   ]
  },
  {
   "cell_type": "code",
   "execution_count": null,
   "metadata": {},
   "outputs": [],
   "source": []
  }
 ],
 "metadata": {
  "kernelspec": {
   "display_name": "Python 3",
   "language": "python",
   "name": "python3"
  },
  "language_info": {
   "codemirror_mode": {
    "name": "ipython",
    "version": 3
   },
   "file_extension": ".py",
   "mimetype": "text/x-python",
   "name": "python",
   "nbconvert_exporter": "python",
   "pygments_lexer": "ipython3",
   "version": "3.7.0"
  }
 },
 "nbformat": 4,
 "nbformat_minor": 1
}
