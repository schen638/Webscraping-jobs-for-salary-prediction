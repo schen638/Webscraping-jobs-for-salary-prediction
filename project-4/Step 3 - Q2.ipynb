{
 "cells": [
  {
   "cell_type": "markdown",
   "metadata": {},
   "source": [
    "### QUESTION 2: Factors that distinguish job category\n",
    "\n",
    "Using the job postings you scraped for part 1 (or potentially new job postings from a second round of scraping),<span style=\"background-color: #FFFF00\"> identify features in the data related to job postings that can distinguish job titles from each other.</span> There are a variety of interesting ways you can frame the target variable, for example:\n",
    "- What components of a job posting distinguish data scientists from other data jobs?\n",
    "- What features are important for distinguishing junior vs. senior positions?\n",
    "- Do the requirements for titles vary significantly with industry (e.g. healthcare vs. government)?\n",
    "\n",
    "You may end up making multiple classification models to tackle different questions. Be sure to clearly explain your hypotheses and framing, any feature engineering, and what your target variables are. The type of classification model you choose is up to you. Be sure to interpret your results and evaluate your models' performance.\n"
   ]
  },
  {
   "cell_type": "code",
   "execution_count": 1,
   "metadata": {
    "scrolled": true
   },
   "outputs": [],
   "source": [
    "from bs4 import BeautifulSoup\n",
    "import numpy as np\n",
    "import scipy.stats as stats\n",
    "import seaborn as sns\n",
    "import matplotlib.pyplot as plt\n",
    "import pandas as pd\n",
    "\n",
    "import pickle\n",
    "import re"
   ]
  },
  {
   "cell_type": "code",
   "execution_count": 2,
   "metadata": {
    "scrolled": false
   },
   "outputs": [],
   "source": [
    "from collections import Counter, defaultdict\n",
    "from sklearn.feature_extraction import stop_words\n",
    "from sklearn.pipeline import make_pipeline\n",
    "from sklearn.metrics import accuracy_score\n",
    "from sklearn.feature_extraction.text import CountVectorizer, TfidfTransformer, TfidfVectorizer\n",
    "from sklearn.model_selection import train_test_split, cross_val_score, ShuffleSplit, GridSearchCV\n",
    "from sklearn.preprocessing import StandardScaler\n",
    "from sklearn import metrics\n",
    "from sklearn.linear_model import LogisticRegression, LogisticRegressionCV\n",
    "from sklearn.ensemble import RandomForestClassifier\n",
    "from sklearn.svm import SVC\n",
    "from sklearn.metrics import classification_report, confusion_matrix, \\\n",
    "mean_squared_error, roc_curve, auc\n",
    "from sklearn.naive_bayes import MultinomialNB, BernoulliNB, GaussianNB\n",
    "from sklearn.pipeline import Pipeline\n",
    "from nltk.tokenize import sent_tokenize, word_tokenize\n",
    "import nltk\n",
    "from sklearn.cluster import KMeans"
   ]
  },
  {
   "cell_type": "code",
   "execution_count": 3,
   "metadata": {},
   "outputs": [],
   "source": [
    "import warnings\n",
    "warnings.filterwarnings('ignore')"
   ]
  },
  {
   "cell_type": "markdown",
   "metadata": {},
   "source": [
    "### NLP and more cleaning specific to Q2"
   ]
  },
  {
   "cell_type": "code",
   "execution_count": 4,
   "metadata": {
    "scrolled": false
   },
   "outputs": [],
   "source": [
    "df = pd.read_pickle(\"./allcleaned.pkl\")"
   ]
  },
  {
   "cell_type": "code",
   "execution_count": 5,
   "metadata": {
    "scrolled": true
   },
   "outputs": [
    {
     "data": {
      "text/plain": [
       "(2945, 17)"
      ]
     },
     "execution_count": 5,
     "metadata": {},
     "output_type": "execute_result"
    }
   ],
   "source": [
    "# unlike Q1, we shall keep all the data we scraped (including those that don't have salaries)\n",
    "df.shape"
   ]
  },
  {
   "cell_type": "code",
   "execution_count": 6,
   "metadata": {},
   "outputs": [
    {
     "data": {
      "text/plain": [
       "Indeed           2154\n",
       "CareersFuture     791\n",
       "Name: portal, dtype: int64"
      ]
     },
     "execution_count": 6,
     "metadata": {},
     "output_type": "execute_result"
    }
   ],
   "source": [
    "df.portal.value_counts()"
   ]
  },
  {
   "cell_type": "markdown",
   "metadata": {},
   "source": [
    "run vectorizer on jd first."
   ]
  },
  {
   "cell_type": "code",
   "execution_count": 7,
   "metadata": {
    "scrolled": true
   },
   "outputs": [
    {
     "data": {
      "text/plain": [
       "'Roles & ResponsibilitiesPalo IT is an innovation & agile development company. From Design Research to DevOps, we are in the business of end-to-end development of breakthrough digital experiences. As a community of innovators and developers, we also aim at renewing the way organizations operate, promoting sustainable business agility, user-centricity and open collaboration while having fun doing it.  Started in Paris in 2009 and with offices in Singapore, Hong Kong and Mexico, we are looking for our next superstar to join our exciting team in Singapore.  At Palo IT, our employees are not widgets. They are in the center of all our projects and successes. We offer an exciting and creative working environment, with endless opportunities to develop your skills, travel and take your career to the next level. Get in touch to find out more!  Your profile & role on the project  YOU:  \\uf0a7 Thrive on challenge. When was the last time you fail?  \\uf0a7 Are curious & always learning. What are you up to right now?  \\uf0a7 Can deal with constant change. When were you last surprised?  \\uf0a7 Have mastered at least one skill of your trade but you’re not defined by it. What can you  teach us? Can you wear many hats?  YOU AGAIN:  The Junior Engineer will learn to install, maintain, and support an on-premises cloud infrastructure and while learning and applying devops practices and solutions. That person will also learn about latest cloud-related technologies such as AWS, Puppet, Chef, Elk. Other infrastructure related activities such as maintaining the company internal server infrastructure and respond to consultant requests when required will be expected.  ➔ Install, maintain, and support on-premises and off-premises cloud stack.  ➔ Configure, maintain, and support the cloud-related infrastructures.  ➔ Act as a system administrator on different OSes (e.g. RHEL, Opensolaris, Ubuntu, etc.) and help teams deploy their application and automate their development and releases on\\xa0 the cloud.  ➔ Ability to develop solutions and self-learn new tools and technologies.  ➔ Document, and share knowledge on developed DevOps solutions.  STILL YOU:  ✔ Strong interest in Cloud-based technologies and Devops practices  ✔ 0-2 year (s) of experience in configuration and maintenance of existing Cloud solutions  would be considered a plus  ✔ Experience in migration from Solaris to RHEL (Red Hat Linux) would be considered a plus  ✔ Bachelor’s degree in Computer Science or related area is required  ✔ Certification in AWS/Azure would be considered a plus  ✔ Excellent interpersonal, oral/written communication and cross-group collaboration skills  ✔ Independent thinker with strong work ethic but also willing and able to conform to  established architectural constraints  ✔ Detail oriented with good organizational skills  ✔ Good knowledge of Linux OS, Shell Scripting and SQL  ✔ Good understanding of networking would be a plus  ✔ Ability to work on multiple priorities and/or projects simultaneously  ✔ Problem-solving abilities and ability to meet reasonable deadlines  ✔ Strong team player, ability to build positive and collaborative relationships  ✔ Ability to work under general supervision  Your role at PALO IT  You will be invited to take part in R&D works done within our Practices. You will have the chance to assist or be a speaker at must-attend international IT conferences. You will have the opportunity to write articles for our Blog or specialized press. Genuine ambassador of PALO IT, you will present our offers and take an active role in the development of the company.  Your technical environment  # Cloud-based technologies (AWS/Puppet/Chef/Elk/Azure/Opencloud) # Devops practices # Linux OS, Shell Scripting, SQL # Agile and scrum environment  WHY US ?  PALO IT is a learning company guided by the values of Agility and craftsmanship offering you multiple possibilities to express yourself and enhance your skills through :  # Our monthly BarCamps; # Our R&D projects; # Our Practices (Development, Architecture, Lean & Agile, Big Data); # Our missions high added value missions in France and internationally that will make you discover new horizons; # Our participation to and sponsoring of major technical events; # And our parties parties = FUN !  Firmly focusing on international expansion, we have offices in France, Hong Kong, Singapore and\\xa0Mexico, meet us to continue this growth !  If you like what you just read, we’d love to have a chat with you!\\r\\n\\r\\nRequirements✔ Strong interest in Cloud-based technologies and Devops practices  ✔ 0-2 year (s) of experience in configuration and maintenance of existing Cloud solutions  would be considered a plus  ✔ Experience in migration from Solaris to RHEL (Red Hat Linux) would be considered a plus  ✔ Bachelor’s degree in Computer Science or related area is required  ✔ Certification in AWS/Azure would be considered a plus  ✔ Excellent interpersonal, oral/written communication and cross-group collaboration skills  ✔ Independent thinker with strong work ethic but also willing and able to conform to  established architectural constraints  ✔ Detail oriented with good organizational skills  ✔ Good knowledge of Linux OS, Shell Scripting and SQL  ✔ Good understanding of networking would be a plus  ✔ Ability to work on multiple priorities and/or projects simultaneously  ✔ Problem-solving abilities and ability to meet reasonable deadlines  ✔ Strong team player, ability to build positive and collaborative relationships  ✔ Ability to work under general supervision \\xa0'"
      ]
     },
     "execution_count": 7,
     "metadata": {},
     "output_type": "execute_result"
    }
   ],
   "source": [
    "# it's one giant string. cool.\n",
    "df.jd[51]"
   ]
  },
  {
   "cell_type": "code",
   "execution_count": 8,
   "metadata": {
    "scrolled": false
   },
   "outputs": [],
   "source": [
    "def cleanrd1(text):\n",
    "    text = text.lower()\n",
    "    # removes carriage returns\n",
    "    text = re.sub('/(\\r\\n)+|\\r+|\\n+|\\t+/i', ' ', text)\n",
    "    # remove everything NOT in the brackets (with caret)\n",
    "    text = re.sub(r\"[^a-zA-Z ]\",\" \",text)\n",
    "    return text\n",
    "\n",
    "clean1 = lambda x: cleanrd1(x)\n",
    "# df['text'] = df['jd'].apply(clean1)"
   ]
  },
  {
   "cell_type": "code",
   "execution_count": 9,
   "metadata": {
    "scrolled": false
   },
   "outputs": [],
   "source": [
    "df['text'] = df.jd.apply(clean1)"
   ]
  },
  {
   "cell_type": "code",
   "execution_count": 10,
   "metadata": {
    "scrolled": false
   },
   "outputs": [
    {
     "data": {
      "text/plain": [
       "'roles   responsibilitiespalo it is an innovation   agile development company  from design research to devops  we are in the business of end to end development of breakthrough digital experiences  as a community of innovators and developers  we also aim at renewing the way organizations operate  promoting sustainable business agility  user centricity and open collaboration while having fun doing it   started in paris in      and with offices in singapore  hong kong and mexico  we are looking for our next superstar to join our exciting team in singapore   at palo it  our employees are not widgets  they are in the center of all our projects and successes  we offer an exciting and creative working environment  with endless opportunities to develop your skills  travel and take your career to the next level  get in touch to find out more   your profile   role on the project  you     thrive on challenge  when was the last time you fail     are curious   always learning  what are you up to right now     can deal with constant change  when were you last surprised     have mastered at least one skill of your trade but you re not defined by it  what can you  teach us  can you wear many hats   you again   the junior engineer will learn to install  maintain  and support an on premises cloud infrastructure and while learning and applying devops practices and solutions  that person will also learn about latest cloud related technologies such as aws  puppet  chef  elk  other infrastructure related activities such as maintaining the company internal server infrastructure and respond to consultant requests when required will be expected     install  maintain  and support on premises and off premises cloud stack     configure  maintain  and support the cloud related infrastructures     act as a system administrator on different oses  e g  rhel  opensolaris  ubuntu  etc   and help teams deploy their application and automate their development and releases on  the cloud     ability to develop solutions and self learn new tools and technologies     document  and share knowledge on developed devops solutions   still you     strong interest in cloud based technologies and devops practices        year  s  of experience in configuration and maintenance of existing cloud solutions  would be considered a plus    experience in migration from solaris to rhel  red hat linux  would be considered a plus    bachelor s degree in computer science or related area is required    certification in aws azure would be considered a plus    excellent interpersonal  oral written communication and cross group collaboration skills    independent thinker with strong work ethic but also willing and able to conform to  established architectural constraints    detail oriented with good organizational skills    good knowledge of linux os  shell scripting and sql    good understanding of networking would be a plus    ability to work on multiple priorities and or projects simultaneously    problem solving abilities and ability to meet reasonable deadlines    strong team player  ability to build positive and collaborative relationships    ability to work under general supervision  your role at palo it  you will be invited to take part in r d works done within our practices  you will have the chance to assist or be a speaker at must attend international it conferences  you will have the opportunity to write articles for our blog or specialized press  genuine ambassador of palo it  you will present our offers and take an active role in the development of the company   your technical environment    cloud based technologies  aws puppet chef elk azure opencloud    devops practices   linux os  shell scripting  sql   agile and scrum environment  why us    palo it is a learning company guided by the values of agility and craftsmanship offering you multiple possibilities to express yourself and enhance your skills through      our monthly barcamps    our r d projects    our practices  development  architecture  lean   agile  big data     our missions high added value missions in france and internationally that will make you discover new horizons    our participation to and sponsoring of major technical events    and our parties parties   fun    firmly focusing on international expansion  we have offices in france  hong kong  singapore and mexico  meet us to continue this growth    if you like what you just read  we d love to have a chat with you     requirements  strong interest in cloud based technologies and devops practices        year  s  of experience in configuration and maintenance of existing cloud solutions  would be considered a plus    experience in migration from solaris to rhel  red hat linux  would be considered a plus    bachelor s degree in computer science or related area is required    certification in aws azure would be considered a plus    excellent interpersonal  oral written communication and cross group collaboration skills    independent thinker with strong work ethic but also willing and able to conform to  established architectural constraints    detail oriented with good organizational skills    good knowledge of linux os  shell scripting and sql    good understanding of networking would be a plus    ability to work on multiple priorities and or projects simultaneously    problem solving abilities and ability to meet reasonable deadlines    strong team player  ability to build positive and collaborative relationships    ability to work under general supervision  '"
      ]
     },
     "execution_count": 10,
     "metadata": {},
     "output_type": "execute_result"
    }
   ],
   "source": [
    "df.text[51]"
   ]
  },
  {
   "cell_type": "code",
   "execution_count": 11,
   "metadata": {
    "scrolled": false
   },
   "outputs": [],
   "source": [
    "corpus = [t for t in df.text]"
   ]
  },
  {
   "cell_type": "code",
   "execution_count": 12,
   "metadata": {},
   "outputs": [],
   "source": [
    "from nltk.corpus import stopwords\n",
    "# import stopwords with option of adding more customized ones later \n",
    "stop = stopwords.words('english')"
   ]
  },
  {
   "cell_type": "code",
   "execution_count": 13,
   "metadata": {},
   "outputs": [],
   "source": [
    "# let's expand the scope of the ngram and max features since Q2 is all about words\n",
    "tvec = TfidfVectorizer(stop_words=stop, ngram_range=(1, 3), max_df=0.9, max_features=30000)"
   ]
  },
  {
   "cell_type": "code",
   "execution_count": 14,
   "metadata": {},
   "outputs": [
    {
     "data": {
      "text/plain": [
       "TfidfVectorizer(analyzer='word', binary=False, decode_error='strict',\n",
       "        dtype=<class 'numpy.float64'>, encoding='utf-8', input='content',\n",
       "        lowercase=True, max_df=0.9, max_features=30000, min_df=1,\n",
       "        ngram_range=(1, 3), norm='l2', preprocessor=None, smooth_idf=True,\n",
       "        stop_words=['i', 'me', 'my', 'myself', 'we', 'our', 'ours', 'ourselves', 'you', \"you're\", \"you've\", \"you'll\", \"you'd\", 'your', 'yours', 'yourself', 'yourselves', 'he', 'him', 'his', 'himself', 'she', \"she's\", 'her', 'hers', 'herself', 'it', \"it's\", 'its', 'itself', 'they', 'them', 'their', 'theirs',... 'shouldn', \"shouldn't\", 'wasn', \"wasn't\", 'weren', \"weren't\", 'won', \"won't\", 'wouldn', \"wouldn't\"],\n",
       "        strip_accents=None, sublinear_tf=False,\n",
       "        token_pattern='(?u)\\\\b\\\\w\\\\w+\\\\b', tokenizer=None, use_idf=True,\n",
       "        vocabulary=None)"
      ]
     },
     "execution_count": 14,
     "metadata": {},
     "output_type": "execute_result"
    }
   ],
   "source": [
    "# builds vocab using fit and transforms words into numbers w transform\n",
    "tvec.fit(corpus)"
   ]
  },
  {
   "cell_type": "code",
   "execution_count": 15,
   "metadata": {},
   "outputs": [],
   "source": [
    "X = tvec.transform(corpus)"
   ]
  },
  {
   "cell_type": "code",
   "execution_count": 16,
   "metadata": {
    "scrolled": false
   },
   "outputs": [],
   "source": [
    "Xt = pd.DataFrame(X.todense(), \n",
    "                    columns=tvec.get_feature_names(), index = df.index)"
   ]
  },
  {
   "cell_type": "code",
   "execution_count": 17,
   "metadata": {
    "scrolled": false
   },
   "outputs": [
    {
     "data": {
      "text/plain": [
       "(2945, 30000)"
      ]
     },
     "execution_count": 17,
     "metadata": {},
     "output_type": "execute_result"
    }
   ],
   "source": [
    "Xt.shape"
   ]
  },
  {
   "cell_type": "code",
   "execution_count": 18,
   "metadata": {},
   "outputs": [
    {
     "data": {
      "text/plain": [
       "data            153.139680\n",
       "business        119.249533\n",
       "team             71.810093\n",
       "work             67.171243\n",
       "management       66.683960\n",
       "skills           66.521314\n",
       "requirements     55.823152\n",
       "sales            55.326251\n",
       "support          55.246495\n",
       "development      53.481557\n",
       "analytics        52.294132\n",
       "project          51.089141\n",
       "knowledge        50.801397\n",
       "analysis         49.134841\n",
       "solutions        48.605031\n",
       "learning         47.903782\n",
       "strong           47.715965\n",
       "ability          46.572394\n",
       "working          46.330188\n",
       "technical        44.097421\n",
       "dtype: float64"
      ]
     },
     "execution_count": 18,
     "metadata": {},
     "output_type": "execute_result"
    }
   ],
   "source": [
    "Xt.sum().sort_values(ascending=False).head(20)"
   ]
  },
  {
   "cell_type": "code",
   "execution_count": 19,
   "metadata": {},
   "outputs": [],
   "source": [
    "# let's also transform job title into clean text\n",
    "df['text2'] = df.jobtitle.apply(clean1)"
   ]
  },
  {
   "cell_type": "code",
   "execution_count": 20,
   "metadata": {},
   "outputs": [
    {
     "data": {
      "text/plain": [
       "'senior associate  data and analytics  advisory'"
      ]
     },
     "execution_count": 20,
     "metadata": {},
     "output_type": "execute_result"
    }
   ],
   "source": [
    "df.text2[101]"
   ]
  },
  {
   "cell_type": "code",
   "execution_count": 21,
   "metadata": {},
   "outputs": [],
   "source": [
    "corpus2 = [t for t in df.text2]"
   ]
  },
  {
   "cell_type": "code",
   "execution_count": 22,
   "metadata": {},
   "outputs": [],
   "source": [
    "cvec = CountVectorizer(stop_words=stop, ngram_range=(1, 2), max_df=0.9, max_features=20000)"
   ]
  },
  {
   "cell_type": "code",
   "execution_count": 23,
   "metadata": {},
   "outputs": [
    {
     "data": {
      "text/plain": [
       "CountVectorizer(analyzer='word', binary=False, decode_error='strict',\n",
       "        dtype=<class 'numpy.int64'>, encoding='utf-8', input='content',\n",
       "        lowercase=True, max_df=0.9, max_features=20000, min_df=1,\n",
       "        ngram_range=(1, 2), preprocessor=None,\n",
       "        stop_words=['i', 'me', 'my', 'myself', 'we', 'our', 'ours', 'ourselves', 'you', \"you're\", \"you've\", \"you'll\", \"you'd\", 'your', 'yours', 'yourself', 'yourselves', 'he', 'him', 'his', 'himself', 'she', \"she's\", 'her', 'hers', 'herself', 'it', \"it's\", 'its', 'itself', 'they', 'them', 'their', 'theirs',... 'shouldn', \"shouldn't\", 'wasn', \"wasn't\", 'weren', \"weren't\", 'won', \"won't\", 'wouldn', \"wouldn't\"],\n",
       "        strip_accents=None, token_pattern='(?u)\\\\b\\\\w\\\\w+\\\\b',\n",
       "        tokenizer=None, vocabulary=None)"
      ]
     },
     "execution_count": 23,
     "metadata": {},
     "output_type": "execute_result"
    }
   ],
   "source": [
    "cvec.fit(corpus2)"
   ]
  },
  {
   "cell_type": "code",
   "execution_count": 24,
   "metadata": {},
   "outputs": [],
   "source": [
    "Xj = cvec.transform(corpus2)"
   ]
  },
  {
   "cell_type": "code",
   "execution_count": 25,
   "metadata": {},
   "outputs": [],
   "source": [
    "Xj = pd.DataFrame(Xj.todense(), \n",
    "                    columns=cvec.get_feature_names(), index = df.index)"
   ]
  },
  {
   "cell_type": "code",
   "execution_count": 26,
   "metadata": {},
   "outputs": [
    {
     "data": {
      "text/plain": [
       "(2945, 5540)"
      ]
     },
     "execution_count": 26,
     "metadata": {},
     "output_type": "execute_result"
    }
   ],
   "source": [
    "Xj.shape"
   ]
  },
  {
   "cell_type": "code",
   "execution_count": 27,
   "metadata": {},
   "outputs": [
    {
     "data": {
      "text/plain": [
       "analyst             1219\n",
       "data                 715\n",
       "business             601\n",
       "senior               371\n",
       "business analyst     338\n",
       "manager              324\n",
       "engineer             301\n",
       "scientist            279\n",
       "data scientist       234\n",
       "associate            141\n",
       "operations           134\n",
       "analytics            133\n",
       "consultant           128\n",
       "data analyst         123\n",
       "technology           109\n",
       "research             109\n",
       "singapore            105\n",
       "developer             96\n",
       "intelligence          96\n",
       "lead                  92\n",
       "dtype: int64"
      ]
     },
     "execution_count": 27,
     "metadata": {},
     "output_type": "execute_result"
    }
   ],
   "source": [
    "Xj.sum().sort_values(ascending=False).head(20)"
   ]
  },
  {
   "cell_type": "code",
   "execution_count": 28,
   "metadata": {},
   "outputs": [],
   "source": [
    "#df.rank pulls up function, so rename to avoid clash\n",
    "df.rename(columns={'rank': 'ranked'}, inplace=True)"
   ]
  },
  {
   "cell_type": "code",
   "execution_count": 29,
   "metadata": {},
   "outputs": [
    {
     "data": {
      "text/plain": [
       "1.0"
      ]
     },
     "execution_count": 29,
     "metadata": {},
     "output_type": "execute_result"
    }
   ],
   "source": [
    "medsal = np.median(~df.avgsalary.isnull())\n",
    "medsal"
   ]
  },
  {
   "cell_type": "code",
   "execution_count": 30,
   "metadata": {},
   "outputs": [],
   "source": [
    "# replace null avgsalary with median\n",
    "df.avgsalary.fillna(medsal, inplace=True)"
   ]
  },
  {
   "cell_type": "code",
   "execution_count": 31,
   "metadata": {},
   "outputs": [
    {
     "data": {
      "text/plain": [
       "0"
      ]
     },
     "execution_count": 31,
     "metadata": {},
     "output_type": "execute_result"
    }
   ],
   "source": [
    "df.avgsalary.isnull().sum()"
   ]
  },
  {
   "cell_type": "code",
   "execution_count": 32,
   "metadata": {},
   "outputs": [],
   "source": [
    "df.elapsed = pd.to_numeric(df.elapsed)"
   ]
  },
  {
   "cell_type": "code",
   "execution_count": 33,
   "metadata": {},
   "outputs": [
    {
     "data": {
      "text/plain": [
       "advertiser         0\n",
       "avgsalary          0\n",
       "district        2306\n",
       "elapsed            0\n",
       "industry        2154\n",
       "jd                 0\n",
       "jobtitle           0\n",
       "jobtype         1646\n",
       "portal             0\n",
       "searchstring       0\n",
       "seniority       2154\n",
       "source             0\n",
       "employees         16\n",
       "firmsize           0\n",
       "function        2154\n",
       "ranked          2154\n",
       "level           2154\n",
       "text               0\n",
       "text2              0\n",
       "dtype: int64"
      ]
     },
     "execution_count": 33,
     "metadata": {},
     "output_type": "execute_result"
    }
   ],
   "source": [
    "# check for nulls\n",
    "df.isnull().sum()"
   ]
  },
  {
   "cell_type": "code",
   "execution_count": 34,
   "metadata": {},
   "outputs": [
    {
     "data": {
      "text/plain": [
       "0.0"
      ]
     },
     "execution_count": 34,
     "metadata": {},
     "output_type": "execute_result"
    }
   ],
   "source": [
    "# impute median rank to null ranked rows as this is numerical and will cause problems in modelling\n",
    "# later if not handled\n",
    "np.median(~df.ranked.isnull())"
   ]
  },
  {
   "cell_type": "code",
   "execution_count": 35,
   "metadata": {},
   "outputs": [],
   "source": [
    "df.ranked.fillna(np.median(~df.ranked.isnull()), inplace=True)"
   ]
  },
  {
   "cell_type": "code",
   "execution_count": 36,
   "metadata": {},
   "outputs": [],
   "source": [
    "# for others, replace with 'None' as these are categoricals\n",
    "todrop = ['district','industry', 'jobtype']\n",
    "for t in todrop:\n",
    "    df[t].fillna('None',  inplace=True)"
   ]
  },
  {
   "cell_type": "code",
   "execution_count": 37,
   "metadata": {},
   "outputs": [],
   "source": [
    "# create final dataframe for classification exercise "
   ]
  },
  {
   "cell_type": "code",
   "execution_count": 38,
   "metadata": {},
   "outputs": [],
   "source": [
    "df.firmsize = df.firmsize.astype(float)"
   ]
  },
  {
   "cell_type": "code",
   "execution_count": 39,
   "metadata": {},
   "outputs": [
    {
     "data": {
      "text/html": [
       "<div>\n",
       "<style scoped>\n",
       "    .dataframe tbody tr th:only-of-type {\n",
       "        vertical-align: middle;\n",
       "    }\n",
       "\n",
       "    .dataframe tbody tr th {\n",
       "        vertical-align: top;\n",
       "    }\n",
       "\n",
       "    .dataframe thead th {\n",
       "        text-align: right;\n",
       "    }\n",
       "</style>\n",
       "<table border=\"1\" class=\"dataframe\">\n",
       "  <thead>\n",
       "    <tr style=\"text-align: right;\">\n",
       "      <th></th>\n",
       "      <th>avgsalary</th>\n",
       "      <th>elapsed</th>\n",
       "      <th>employees</th>\n",
       "      <th>firmsize</th>\n",
       "      <th>function</th>\n",
       "      <th>ranked</th>\n",
       "      <th>level</th>\n",
       "    </tr>\n",
       "  </thead>\n",
       "  <tbody>\n",
       "    <tr>\n",
       "      <th>0</th>\n",
       "      <td>9000.0</td>\n",
       "      <td>0.0</td>\n",
       "      <td>20000.0</td>\n",
       "      <td>3.0</td>\n",
       "      <td>0.0</td>\n",
       "      <td>3.0</td>\n",
       "      <td>3.0</td>\n",
       "    </tr>\n",
       "    <tr>\n",
       "      <th>1</th>\n",
       "      <td>5100.0</td>\n",
       "      <td>0.0</td>\n",
       "      <td>1.0</td>\n",
       "      <td>0.0</td>\n",
       "      <td>2.0</td>\n",
       "      <td>2.0</td>\n",
       "      <td>0.0</td>\n",
       "    </tr>\n",
       "    <tr>\n",
       "      <th>2</th>\n",
       "      <td>17500.0</td>\n",
       "      <td>0.0</td>\n",
       "      <td>1.0</td>\n",
       "      <td>0.0</td>\n",
       "      <td>3.0</td>\n",
       "      <td>3.0</td>\n",
       "      <td>0.0</td>\n",
       "    </tr>\n",
       "    <tr>\n",
       "      <th>3</th>\n",
       "      <td>10500.0</td>\n",
       "      <td>0.0</td>\n",
       "      <td>1.0</td>\n",
       "      <td>0.0</td>\n",
       "      <td>4.0</td>\n",
       "      <td>8.0</td>\n",
       "      <td>4.0</td>\n",
       "    </tr>\n",
       "    <tr>\n",
       "      <th>4</th>\n",
       "      <td>8500.0</td>\n",
       "      <td>0.0</td>\n",
       "      <td>1.0</td>\n",
       "      <td>0.0</td>\n",
       "      <td>2.0</td>\n",
       "      <td>7.0</td>\n",
       "      <td>5.0</td>\n",
       "    </tr>\n",
       "  </tbody>\n",
       "</table>\n",
       "</div>"
      ],
      "text/plain": [
       "   avgsalary  elapsed  employees  firmsize  function  ranked  level\n",
       "0     9000.0      0.0    20000.0       3.0       0.0     3.0    3.0\n",
       "1     5100.0      0.0        1.0       0.0       2.0     2.0    0.0\n",
       "2    17500.0      0.0        1.0       0.0       3.0     3.0    0.0\n",
       "3    10500.0      0.0        1.0       0.0       4.0     8.0    4.0\n",
       "4     8500.0      0.0        1.0       0.0       2.0     7.0    5.0"
      ]
     },
     "execution_count": 39,
     "metadata": {},
     "output_type": "execute_result"
    }
   ],
   "source": [
    "X = df.select_dtypes(include='number')\n",
    "X.head()"
   ]
  },
  {
   "cell_type": "code",
   "execution_count": 40,
   "metadata": {},
   "outputs": [
    {
     "data": {
      "text/plain": [
       "(2945, 4)"
      ]
     },
     "execution_count": 40,
     "metadata": {},
     "output_type": "execute_result"
    }
   ],
   "source": [
    "X = X.drop(['function','level','employees'], axis=1)\n",
    "X.shape"
   ]
  },
  {
   "cell_type": "code",
   "execution_count": 41,
   "metadata": {},
   "outputs": [],
   "source": [
    "# some jobs belong to multiple industries, so let's split the industry variable\n",
    "dummy = df.industry.str.strip().str.get_dummies(sep=',')\n",
    "#industry_split = df.industry.str.strip().str.split(',', expand=True).stack()"
   ]
  },
  {
   "cell_type": "code",
   "execution_count": 42,
   "metadata": {},
   "outputs": [
    {
     "data": {
      "text/plain": [
       "(2945, 64)"
      ]
     },
     "execution_count": 42,
     "metadata": {},
     "output_type": "execute_result"
    }
   ],
   "source": [
    "dummy.shape"
   ]
  },
  {
   "cell_type": "code",
   "execution_count": 43,
   "metadata": {},
   "outputs": [
    {
     "data": {
      "text/plain": [
       "(2945, 68)"
      ]
     },
     "execution_count": 43,
     "metadata": {},
     "output_type": "execute_result"
    }
   ],
   "source": [
    "X = pd.concat([X, dummy], axis=1)\n",
    "X.shape"
   ]
  },
  {
   "cell_type": "code",
   "execution_count": 44,
   "metadata": {},
   "outputs": [],
   "source": [
    "# columns to convert into dummy variables \n",
    "dummies = ['district', 'jobtype', 'portal', 'searchstring' ]   "
   ]
  },
  {
   "cell_type": "code",
   "execution_count": 45,
   "metadata": {},
   "outputs": [
    {
     "data": {
      "text/plain": [
       "(2945, 107)"
      ]
     },
     "execution_count": 45,
     "metadata": {},
     "output_type": "execute_result"
    }
   ],
   "source": [
    "dummy = pd.get_dummies(df[dummies], prefix=dummies, drop_first=True)\n",
    "X = pd.concat([X, dummy], axis=1)\n",
    "X.shape"
   ]
  },
  {
   "cell_type": "code",
   "execution_count": 46,
   "metadata": {},
   "outputs": [
    {
     "data": {
      "text/plain": [
       "Index([], dtype='object')"
      ]
     },
     "execution_count": 46,
     "metadata": {},
     "output_type": "execute_result"
    }
   ],
   "source": [
    "# check for NAs\n",
    "X.columns[X.isnull().any()]"
   ]
  },
  {
   "cell_type": "code",
   "execution_count": 47,
   "metadata": {},
   "outputs": [
    {
     "data": {
      "text/plain": [
       "(2945, 30000)"
      ]
     },
     "execution_count": 47,
     "metadata": {},
     "output_type": "execute_result"
    }
   ],
   "source": [
    "# prefix jd word columns with 'jd' for ID purposes\n",
    "Xt.columns = 'jd_' + Xt.columns\n",
    "Xt.shape"
   ]
  },
  {
   "cell_type": "code",
   "execution_count": 48,
   "metadata": {},
   "outputs": [],
   "source": [
    "X = pd.concat([X, Xt], axis=1)"
   ]
  },
  {
   "cell_type": "code",
   "execution_count": 49,
   "metadata": {},
   "outputs": [
    {
     "data": {
      "text/plain": [
       "(2945, 5540)"
      ]
     },
     "execution_count": 49,
     "metadata": {},
     "output_type": "execute_result"
    }
   ],
   "source": [
    "# prefix jobtitle word columns with 'jt' for ID purposes\n",
    "Xj.columns = 'jt_' + Xj.columns\n",
    "Xj.shape"
   ]
  },
  {
   "cell_type": "code",
   "execution_count": 50,
   "metadata": {},
   "outputs": [],
   "source": [
    "#X = pd.concat([X, Xj], axis=1)"
   ]
  },
  {
   "cell_type": "code",
   "execution_count": 51,
   "metadata": {},
   "outputs": [
    {
     "data": {
      "text/plain": [
       "(2945, 30107)"
      ]
     },
     "execution_count": 51,
     "metadata": {},
     "output_type": "execute_result"
    }
   ],
   "source": [
    "X.shape"
   ]
  },
  {
   "cell_type": "code",
   "execution_count": 52,
   "metadata": {},
   "outputs": [
    {
     "data": {
      "text/plain": [
       "jt_analyst             1219\n",
       "jt_data                 715\n",
       "jt_business             601\n",
       "jt_senior               371\n",
       "jt_business analyst     338\n",
       "jt_manager              324\n",
       "jt_engineer             301\n",
       "jt_scientist            279\n",
       "jt_data scientist       234\n",
       "jt_associate            141\n",
       "dtype: int64"
      ]
     },
     "execution_count": 52,
     "metadata": {},
     "output_type": "execute_result"
    }
   ],
   "source": [
    "Xj.sum().sort_values(ascending=False)[:10]"
   ]
  },
  {
   "cell_type": "code",
   "execution_count": 53,
   "metadata": {},
   "outputs": [
    {
     "data": {
      "text/plain": [
       "0      big data engineer  financial services \n",
       "1                      big data administrator\n",
       "2                         analytics architect\n",
       "3    technical solutions architecture manager\n",
       "4                senior etl and data engineer\n",
       "Name: text2, dtype: object"
      ]
     },
     "execution_count": 53,
     "metadata": {},
     "output_type": "execute_result"
    }
   ],
   "source": [
    "df.text2.head()"
   ]
  },
  {
   "cell_type": "code",
   "execution_count": 54,
   "metadata": {},
   "outputs": [],
   "source": [
    "df.to_pickle('./Q2premodel.pkl')"
   ]
  },
  {
   "cell_type": "markdown",
   "metadata": {},
   "source": [
    "### MODELLING"
   ]
  },
  {
   "cell_type": "markdown",
   "metadata": {},
   "source": [
    "<div class=\"alert alert-warning\">\n",
    "This appears to be an unsupervised learning problem, as we do not have specific values of y to test as yet. "
   ]
  },
  {
   "cell_type": "code",
   "execution_count": 55,
   "metadata": {},
   "outputs": [],
   "source": [
    "# scale features\n",
    "ss= StandardScaler()\n",
    "\n",
    "Xs = ss.fit_transform(X)\n"
   ]
  },
  {
   "cell_type": "markdown",
   "metadata": {},
   "source": [
    "<div class=\"alert alert-warning\">\n",
    "    1. Before we do anything else, what is the optimal k for k-means clustering? "
   ]
  },
  {
   "cell_type": "code",
   "execution_count": 56,
   "metadata": {},
   "outputs": [
    {
     "data": {
      "image/png": "[encoded data removed]",
      "text/plain": [
       "<Figure size 432x288 with 1 Axes>"
      ]
     },
     "metadata": {
      "needs_background": "light"
     },
     "output_type": "display_data"
    }
   ],
   "source": [
    "from scipy.spatial.distance import cdist\n",
    "# k means determine k\n",
    "distortions = []\n",
    "K = range(1,11)\n",
    "for k in K:\n",
    "    kmeanModel = KMeans(n_clusters=k).fit(Xs)\n",
    "    kmeanModel.fit(Xs)\n",
    "    distortions.append(sum(np.min(cdist(Xs, kmeanModel.cluster_centers_, 'euclidean'), axis=1)) / Xs.shape[0])\n",
    "\n",
    "# Plot the elbow\n",
    "plt.plot(K, distortions, 'bx-')\n",
    "plt.xlabel('k')\n",
    "plt.ylabel('Distortion')\n",
    "plt.title('The Elbow Method showing the optimal k')\n",
    "plt.show()"
   ]
  },
  {
   "cell_type": "code",
   "execution_count": 56,
   "metadata": {},
   "outputs": [
    {
     "data": {
      "text/plain": [
       "KMeans(algorithm='auto', copy_x=True, init='k-means++', max_iter=300,\n",
       "    n_clusters=3, n_init=10, n_jobs=None, precompute_distances='auto',\n",
       "    random_state=60, tol=0.0001, verbose=0)"
      ]
     },
     "execution_count": 56,
     "metadata": {},
     "output_type": "execute_result"
    }
   ],
   "source": [
    "# based on elbow graph above, try k=3\n",
    "model = KMeans(n_clusters=3, random_state=60)\n",
    "\n",
    "# Fitting Model\n",
    "model.fit(Xs)"
   ]
  },
  {
   "cell_type": "code",
   "execution_count": 57,
   "metadata": {},
   "outputs": [],
   "source": [
    "# Prediction on the entire data - can also use model.labels_\n",
    "all_predictions = model.predict(Xs)"
   ]
  },
  {
   "cell_type": "code",
   "execution_count": 58,
   "metadata": {},
   "outputs": [
    {
     "name": "stdout",
     "output_type": "stream",
     "text": [
      "[2 2 2 ... 2 2 2]\n"
     ]
    }
   ],
   "source": [
    "print(all_predictions)"
   ]
  },
  {
   "cell_type": "code",
   "execution_count": 59,
   "metadata": {},
   "outputs": [
    {
     "data": {
      "text/plain": [
       "(array([0, 1, 2]), array([  12,  133, 2800], dtype=int64))"
      ]
     },
     "execution_count": 59,
     "metadata": {},
     "output_type": "execute_result"
    }
   ],
   "source": [
    "np.unique(all_predictions, return_counts=True)"
   ]
  },
  {
   "cell_type": "code",
   "execution_count": 60,
   "metadata": {},
   "outputs": [],
   "source": [
    "df['prediction'] = all_predictions"
   ]
  },
  {
   "cell_type": "code",
   "execution_count": 61,
   "metadata": {},
   "outputs": [
    {
     "data": {
      "text/plain": [
       "<matplotlib.axes._subplots.AxesSubplot at 0x20ca48cf7f0>"
      ]
     },
     "execution_count": 61,
     "metadata": {},
     "output_type": "execute_result"
    },
    {
     "data": {
      "image/png": "[encoded data removed]",
      "text/plain": [
       "<Figure size 720x288 with 1 Axes>"
      ]
     },
     "metadata": {
      "needs_background": "light"
     },
     "output_type": "display_data"
    }
   ],
   "source": [
    "df.prediction.hist(figsize=(10,4), bins=10)"
   ]
  },
  {
   "cell_type": "code",
   "execution_count": 64,
   "metadata": {},
   "outputs": [],
   "source": [
    "# data is heavily skewed to cluster 2. let's run random forest to see what features affect cluster \n",
    "# 2 the most"
   ]
  },
  {
   "cell_type": "markdown",
   "metadata": {},
   "source": [
    " <div class=\"alert alert-warning\">\n",
    "    2. Random Forest with cluster 2 as target variable y=1"
   ]
  },
  {
   "cell_type": "code",
   "execution_count": 62,
   "metadata": {},
   "outputs": [],
   "source": [
    "y = np.where(all_predictions==2, 1, 0)"
   ]
  },
  {
   "cell_type": "code",
   "execution_count": 63,
   "metadata": {},
   "outputs": [],
   "source": [
    "ranf_parameters = {\n",
    "    'n_estimators': [100, 200, 400],\n",
    "    'max_features': ['auto', 'log2'],\n",
    "    'max_depth' : [4,6],\n",
    "    'criterion' :['gini', 'entropy']\n",
    "}"
   ]
  },
  {
   "cell_type": "code",
   "execution_count": 64,
   "metadata": {},
   "outputs": [],
   "source": [
    "def gscv(method, prefix, cv, X,y):\n",
    "\n",
    "    gridsearcher = GridSearchCV(method, param_grid=prefix,cv=cv, verbose=2, n_jobs=-1)\n",
    "    result = gridsearcher.fit(X,y)\n",
    "\n",
    "    #print('Best mean cross-validated score achieved:', result.best_score_)\n",
    "    print('Best parameters:', result.best_params_)\n",
    "    # this is the accuracy score ie. tp+tn/totpopn\n",
    "    best = result.best_estimator_\n",
    "    return best"
   ]
  },
  {
   "cell_type": "code",
   "execution_count": 65,
   "metadata": {},
   "outputs": [
    {
     "name": "stdout",
     "output_type": "stream",
     "text": [
      "Fitting 5 folds for each of 24 candidates, totalling 120 fits\n"
     ]
    },
    {
     "name": "stderr",
     "output_type": "stream",
     "text": [
      "[Parallel(n_jobs=-1)]: Using backend LokyBackend with 4 concurrent workers.\n",
      "[Parallel(n_jobs=-1)]: Done  33 tasks      | elapsed: 13.5min\n",
      "[Parallel(n_jobs=-1)]: Done 120 out of 120 | elapsed: 28.3min finished\n"
     ]
    },
    {
     "name": "stdout",
     "output_type": "stream",
     "text": [
      "Best parameters: {'criterion': 'gini', 'max_depth': 6, 'max_features': 'auto', 'n_estimators': 400}\n"
     ]
    }
   ],
   "source": [
    "rfpredict0 = gscv(RandomForestClassifier(), ranf_parameters, 5, Xs, y)"
   ]
  },
  {
   "cell_type": "code",
   "execution_count": 66,
   "metadata": {},
   "outputs": [
    {
     "data": {
      "text/html": [
       "<div>\n",
       "<style scoped>\n",
       "    .dataframe tbody tr th:only-of-type {\n",
       "        vertical-align: middle;\n",
       "    }\n",
       "\n",
       "    .dataframe tbody tr th {\n",
       "        vertical-align: top;\n",
       "    }\n",
       "\n",
       "    .dataframe thead th {\n",
       "        text-align: right;\n",
       "    }\n",
       "</style>\n",
       "<table border=\"1\" class=\"dataframe\">\n",
       "  <thead>\n",
       "    <tr style=\"text-align: right;\">\n",
       "      <th></th>\n",
       "      <th>coef</th>\n",
       "    </tr>\n",
       "  </thead>\n",
       "  <tbody>\n",
       "    <tr>\n",
       "      <th>jd_resilient infrastructure strategic</th>\n",
       "      <td>0.008623</td>\n",
       "    </tr>\n",
       "    <tr>\n",
       "      <th>jd_nimble resilient infrastructure</th>\n",
       "      <td>0.007522</td>\n",
       "    </tr>\n",
       "    <tr>\n",
       "      <th>jd_bank operational processes</th>\n",
       "      <td>0.007329</td>\n",
       "    </tr>\n",
       "    <tr>\n",
       "      <th>jd_ethnic national</th>\n",
       "      <td>0.006503</td>\n",
       "    </tr>\n",
       "    <tr>\n",
       "      <th>jd_citizenship marital</th>\n",
       "      <td>0.006283</td>\n",
       "    </tr>\n",
       "    <tr>\n",
       "      <th>jd_majority bank operational</th>\n",
       "      <td>0.005793</td>\n",
       "    </tr>\n",
       "    <tr>\n",
       "      <th>jd_operational processes inspire</th>\n",
       "      <td>0.005722</td>\n",
       "    </tr>\n",
       "    <tr>\n",
       "      <th>jd_technology people</th>\n",
       "      <td>0.005675</td>\n",
       "    </tr>\n",
       "    <tr>\n",
       "      <th>jd_empowers bank</th>\n",
       "      <td>0.005661</td>\n",
       "    </tr>\n",
       "    <tr>\n",
       "      <th>jd_bank operational</th>\n",
       "      <td>0.005429</td>\n",
       "    </tr>\n",
       "    <tr>\n",
       "      <th>jd_nimble resilient</th>\n",
       "      <td>0.005376</td>\n",
       "    </tr>\n",
       "    <tr>\n",
       "      <th>jd_innovation group</th>\n",
       "      <td>0.005354</td>\n",
       "    </tr>\n",
       "    <tr>\n",
       "      <th>jd_age citizenship marital</th>\n",
       "      <td>0.005185</td>\n",
       "    </tr>\n",
       "    <tr>\n",
       "      <th>jd_bank efficient</th>\n",
       "      <td>0.004926</td>\n",
       "    </tr>\n",
       "    <tr>\n",
       "      <th>jd_control technology</th>\n",
       "      <td>0.004906</td>\n",
       "    </tr>\n",
       "    <tr>\n",
       "      <th>jd_bank efficient nimble</th>\n",
       "      <td>0.004858</td>\n",
       "    </tr>\n",
       "    <tr>\n",
       "      <th>jd_ethnic national origin</th>\n",
       "      <td>0.004838</td>\n",
       "    </tr>\n",
       "    <tr>\n",
       "      <th>jd_multiple banking</th>\n",
       "      <td>0.004734</td>\n",
       "    </tr>\n",
       "    <tr>\n",
       "      <th>jd_innovation group manage</th>\n",
       "      <td>0.004676</td>\n",
       "    </tr>\n",
       "    <tr>\n",
       "      <th>jd_efficient nimble</th>\n",
       "      <td>0.004629</td>\n",
       "    </tr>\n",
       "  </tbody>\n",
       "</table>\n",
       "</div>"
      ],
      "text/plain": [
       "                                           coef\n",
       "jd_resilient infrastructure strategic  0.008623\n",
       "jd_nimble resilient infrastructure     0.007522\n",
       "jd_bank operational processes          0.007329\n",
       "jd_ethnic national                     0.006503\n",
       "jd_citizenship marital                 0.006283\n",
       "jd_majority bank operational           0.005793\n",
       "jd_operational processes inspire       0.005722\n",
       "jd_technology people                   0.005675\n",
       "jd_empowers bank                       0.005661\n",
       "jd_bank operational                    0.005429\n",
       "jd_nimble resilient                    0.005376\n",
       "jd_innovation group                    0.005354\n",
       "jd_age citizenship marital             0.005185\n",
       "jd_bank efficient                      0.004926\n",
       "jd_control technology                  0.004906\n",
       "jd_bank efficient nimble               0.004858\n",
       "jd_ethnic national origin              0.004838\n",
       "jd_multiple banking                    0.004734\n",
       "jd_innovation group manage             0.004676\n",
       "jd_efficient nimble                    0.004629"
      ]
     },
     "execution_count": 66,
     "metadata": {},
     "output_type": "execute_result"
    }
   ],
   "source": [
    "# Get numerical feature importances\n",
    "importances = list(rfpredict0.feature_importances_)\n",
    "# get coefficients\n",
    "rfdf = pd.DataFrame(importances, index=X.columns, columns=['coef'])\n",
    "# getting top features\n",
    "rfdf.sort_values(by='coef', ascending=False)[:20]"
   ]
  },
  {
   "cell_type": "markdown",
   "metadata": {},
   "source": [
    "<li>words from the JD dominated the top 20, but they don't offer much insight about the cluster core content. one or two exceptions could possibly be inclusion of specific wording in hiring policies and the need to be 'nimble' and 'efficient'. \n",
    "<li>also, since the cluster process produced a huge majority cluster (this was also true of k-means runs with k=4, k=8 and k=11 (not shown here)), the results are not very meaningful.\n",
    "\n",
    "<li>let's try a more targeted approach. "
   ]
  },
  {
   "cell_type": "markdown",
   "metadata": {},
   "source": [
    "<div class=\"alert alert-warning\">\n",
    "    3. Logistic Regression to explore relationship between senior positions and job titles. "
   ]
  },
  {
   "cell_type": "code",
   "execution_count": 56,
   "metadata": {},
   "outputs": [],
   "source": [
    "# isolate all job titles containing the word 'senior'\n",
    "y = np.where(df.text2.str.contains('senior'), 1, 0)"
   ]
  },
  {
   "cell_type": "code",
   "execution_count": 58,
   "metadata": {},
   "outputs": [],
   "source": [
    "logr_parameters = {\n",
    "    'penalty':['l1','l2'],\n",
    "    'solver':['liblinear'],\n",
    "    'C':np.linspace(1, 25, 25)}"
   ]
  },
  {
   "cell_type": "code",
   "execution_count": 59,
   "metadata": {},
   "outputs": [
    {
     "name": "stdout",
     "output_type": "stream",
     "text": [
      "Fitting 5 folds for each of 50 candidates, totalling 250 fits\n"
     ]
    },
    {
     "name": "stderr",
     "output_type": "stream",
     "text": [
      "[Parallel(n_jobs=-1)]: Using backend LokyBackend with 4 concurrent workers.\n",
      "[Parallel(n_jobs=-1)]: Done  33 tasks      | elapsed: 17.1min\n",
      "[Parallel(n_jobs=-1)]: Done 154 tasks      | elapsed: 100.7min\n",
      "[Parallel(n_jobs=-1)]: Done 250 out of 250 | elapsed: 178.0min finished\n"
     ]
    },
    {
     "name": "stdout",
     "output_type": "stream",
     "text": [
      "Best parameters: {'C': 1.0, 'penalty': 'l1', 'solver': 'liblinear'}\n"
     ]
    }
   ],
   "source": [
    "lrsenior = gscv(LogisticRegression(), logr_parameters, 5, Xs, y)"
   ]
  },
  {
   "cell_type": "code",
   "execution_count": 64,
   "metadata": {},
   "outputs": [
    {
     "data": {
      "text/html": [
       "<div>\n",
       "<style scoped>\n",
       "    .dataframe tbody tr th:only-of-type {\n",
       "        vertical-align: middle;\n",
       "    }\n",
       "\n",
       "    .dataframe tbody tr th {\n",
       "        vertical-align: top;\n",
       "    }\n",
       "\n",
       "    .dataframe thead th {\n",
       "        text-align: right;\n",
       "    }\n",
       "</style>\n",
       "<table border=\"1\" class=\"dataframe\">\n",
       "  <thead>\n",
       "    <tr style=\"text-align: right;\">\n",
       "      <th></th>\n",
       "      <th>coef</th>\n",
       "      <th>abscoef</th>\n",
       "    </tr>\n",
       "  </thead>\n",
       "  <tbody>\n",
       "    <tr>\n",
       "      <th>jd_senior</th>\n",
       "      <td>0.932778</td>\n",
       "      <td>0.932778</td>\n",
       "    </tr>\n",
       "    <tr>\n",
       "      <th>jd_senior data</th>\n",
       "      <td>0.616512</td>\n",
       "      <td>0.616512</td>\n",
       "    </tr>\n",
       "    <tr>\n",
       "      <th>jd_senior analyst</th>\n",
       "      <td>0.481625</td>\n",
       "      <td>0.481625</td>\n",
       "    </tr>\n",
       "    <tr>\n",
       "      <th>jd_loosely</th>\n",
       "      <td>0.427203</td>\n",
       "      <td>0.427203</td>\n",
       "    </tr>\n",
       "    <tr>\n",
       "      <th>jd_demonstrate flexibility</th>\n",
       "      <td>0.401319</td>\n",
       "      <td>0.401319</td>\n",
       "    </tr>\n",
       "    <tr>\n",
       "      <th>jd_insights lead</th>\n",
       "      <td>0.367892</td>\n",
       "      <td>0.367892</td>\n",
       "    </tr>\n",
       "    <tr>\n",
       "      <th>jd_role senior</th>\n",
       "      <td>0.338503</td>\n",
       "      <td>0.338503</td>\n",
       "    </tr>\n",
       "    <tr>\n",
       "      <th>jd_skyscanner</th>\n",
       "      <td>0.332403</td>\n",
       "      <td>0.332403</td>\n",
       "    </tr>\n",
       "    <tr>\n",
       "      <th>jd_sales delivery</th>\n",
       "      <td>0.321293</td>\n",
       "      <td>0.321293</td>\n",
       "    </tr>\n",
       "    <tr>\n",
       "      <th>jd_lessons learned</th>\n",
       "      <td>0.299112</td>\n",
       "      <td>0.299112</td>\n",
       "    </tr>\n",
       "    <tr>\n",
       "      <th>jd_help build better</th>\n",
       "      <td>0.298468</td>\n",
       "      <td>0.298468</td>\n",
       "    </tr>\n",
       "    <tr>\n",
       "      <th>jd_challenges strong</th>\n",
       "      <td>0.292216</td>\n",
       "      <td>0.292216</td>\n",
       "    </tr>\n",
       "    <tr>\n",
       "      <th>jd_project scope</th>\n",
       "      <td>0.264690</td>\n",
       "      <td>0.264690</td>\n",
       "    </tr>\n",
       "    <tr>\n",
       "      <th>jd_teams ensuring</th>\n",
       "      <td>0.258707</td>\n",
       "      <td>0.258707</td>\n",
       "    </tr>\n",
       "    <tr>\n",
       "      <th>jd_posting date</th>\n",
       "      <td>0.249353</td>\n",
       "      <td>0.249353</td>\n",
       "    </tr>\n",
       "    <tr>\n",
       "      <th>jd_professional services firm</th>\n",
       "      <td>0.246562</td>\n",
       "      <td>0.246562</td>\n",
       "    </tr>\n",
       "    <tr>\n",
       "      <th>jd_science engineering statistics</th>\n",
       "      <td>0.244079</td>\n",
       "      <td>0.244079</td>\n",
       "    </tr>\n",
       "    <tr>\n",
       "      <th>jd_advantage</th>\n",
       "      <td>0.239194</td>\n",
       "      <td>0.239194</td>\n",
       "    </tr>\n",
       "    <tr>\n",
       "      <th>jd_relevant project</th>\n",
       "      <td>0.238222</td>\n",
       "      <td>0.238222</td>\n",
       "    </tr>\n",
       "    <tr>\n",
       "      <th>jd_framework using</th>\n",
       "      <td>0.232598</td>\n",
       "      <td>0.232598</td>\n",
       "    </tr>\n",
       "  </tbody>\n",
       "</table>\n",
       "</div>"
      ],
      "text/plain": [
       "                                       coef   abscoef\n",
       "jd_senior                          0.932778  0.932778\n",
       "jd_senior data                     0.616512  0.616512\n",
       "jd_senior analyst                  0.481625  0.481625\n",
       "jd_loosely                         0.427203  0.427203\n",
       "jd_demonstrate flexibility         0.401319  0.401319\n",
       "jd_insights lead                   0.367892  0.367892\n",
       "jd_role senior                     0.338503  0.338503\n",
       "jd_skyscanner                      0.332403  0.332403\n",
       "jd_sales delivery                  0.321293  0.321293\n",
       "jd_lessons learned                 0.299112  0.299112\n",
       "jd_help build better               0.298468  0.298468\n",
       "jd_challenges strong               0.292216  0.292216\n",
       "jd_project scope                   0.264690  0.264690\n",
       "jd_teams ensuring                  0.258707  0.258707\n",
       "jd_posting date                    0.249353  0.249353\n",
       "jd_professional services firm      0.246562  0.246562\n",
       "jd_science engineering statistics  0.244079  0.244079\n",
       "jd_advantage                       0.239194  0.239194\n",
       "jd_relevant project                0.238222  0.238222\n",
       "jd_framework using                 0.232598  0.232598"
      ]
     },
     "execution_count": 64,
     "metadata": {},
     "output_type": "execute_result"
    }
   ],
   "source": [
    "lrcoef = pd.DataFrame(lrsenior.coef_.T, index=X.columns, columns=['coef'])\n",
    "lrcoef['abscoef'] = abs(lrcoef.coef)\n",
    "lrcoef.sort_values(by='abscoef', ascending=False).head(20)"
   ]
  },
  {
   "cell_type": "markdown",
   "metadata": {},
   "source": [
    "words containing 'senior', and words like 'demonstrate flexibility', 'sales delivery' and 'insights lead' within a JD are the top words assoc with senior roles. "
   ]
  },
  {
   "cell_type": "markdown",
   "metadata": {},
   "source": [
    "<div class=\"alert alert-warning\">\n",
    "    4. Explore relationship between searchstrings and jobtitles.  "
   ]
  },
  {
   "cell_type": "code",
   "execution_count": 65,
   "metadata": {},
   "outputs": [
    {
     "data": {
      "image/png": "[encoded data removed]",
      "text/plain": [
       "<Figure size 432x288 with 1 Axes>"
      ]
     },
     "metadata": {
      "needs_background": "light"
     },
     "output_type": "display_data"
    }
   ],
   "source": [
    "from scipy.spatial.distance import cdist\n",
    "# use elbow technique to see if there are clusters within job titles\n",
    "distortions = []\n",
    "K = range(1,11)\n",
    "for k in K:\n",
    "    kmeanModel = KMeans(n_clusters=k).fit(Xj)\n",
    "    kmeanModel.fit(Xj)\n",
    "    distortions.append(sum(np.min(cdist(Xj, kmeanModel.cluster_centers_, 'euclidean'), axis=1)) / Xj.shape[0])\n",
    "\n",
    "# Plot the elbow\n",
    "plt.plot(K, distortions, 'bx-')\n",
    "plt.xlabel('k')\n",
    "plt.ylabel('Distortion')\n",
    "plt.title('The Elbow Method showing the optimal k')\n",
    "plt.show()"
   ]
  },
  {
   "cell_type": "code",
   "execution_count": 69,
   "metadata": {},
   "outputs": [
    {
     "data": {
      "text/plain": [
       "array(['Big Data', 'Business Analyst', 'Business Intelligence',\n",
       "       'Database Administrator', 'Data Analyst', 'Data Engineer',\n",
       "       'Data Scientist', 'Deep Learning', 'Machine Learning',\n",
       "       'Python Developer', 'Data'], dtype=object)"
      ]
     },
     "execution_count": 69,
     "metadata": {},
     "output_type": "execute_result"
    }
   ],
   "source": [
    "df.searchstring.unique()"
   ]
  },
  {
   "cell_type": "code",
   "execution_count": 70,
   "metadata": {},
   "outputs": [
    {
     "data": {
      "text/plain": [
       "KMeans(algorithm='auto', copy_x=True, init='k-means++', max_iter=300,\n",
       "    n_clusters=9, n_init=10, n_jobs=None, precompute_distances='auto',\n",
       "    random_state=60, tol=0.0001, verbose=0)"
      ]
     },
     "execution_count": 70,
     "metadata": {},
     "output_type": "execute_result"
    }
   ],
   "source": [
    "# there is a clear kink at 9\n",
    "model = KMeans(n_clusters=9, random_state=60)\n",
    "\n",
    "# Fitting Model\n",
    "model.fit(Xj)"
   ]
  },
  {
   "cell_type": "code",
   "execution_count": 71,
   "metadata": {},
   "outputs": [],
   "source": [
    "# Prediction on the entire data - can also use model.labels_\n",
    "all_predictions = model.predict(Xj)"
   ]
  },
  {
   "cell_type": "code",
   "execution_count": 72,
   "metadata": {},
   "outputs": [
    {
     "name": "stdout",
     "output_type": "stream",
     "text": [
      "[5 1 1 ... 1 1 5]\n"
     ]
    }
   ],
   "source": [
    "print(all_predictions)"
   ]
  },
  {
   "cell_type": "code",
   "execution_count": 73,
   "metadata": {},
   "outputs": [],
   "source": [
    "df['sslabels'] = all_predictions"
   ]
  },
  {
   "cell_type": "code",
   "execution_count": 74,
   "metadata": {},
   "outputs": [
    {
     "data": {
      "image/png": "[encoded data removed]",
      "text/plain": [
       "<Figure size 336x288 with 1 Axes>"
      ]
     },
     "metadata": {
      "needs_background": "light"
     },
     "output_type": "display_data"
    }
   ],
   "source": [
    "g = sns.lmplot(x = 'searchstring', y = 'sslabels', data = df, hue = 'sslabels', \\\n",
    "           height = 4, fit_reg = False, palette = 'tab20b_r')\n",
    "g.set_xticklabels(rotation=90)\n",
    "plt.show()"
   ]
  },
  {
   "cell_type": "code",
   "execution_count": null,
   "metadata": {},
   "outputs": [],
   "source": [
    "# no special patterns observed"
   ]
  },
  {
   "cell_type": "code",
   "execution_count": 75,
   "metadata": {},
   "outputs": [
    {
     "name": "stdout",
     "output_type": "stream",
     "text": [
      "0.2840981593875318\n",
      "0.2778153024594559\n"
     ]
    }
   ],
   "source": [
    "from sklearn.metrics import completeness_score\n",
    "print(completeness_score(df.searchstring, all_predictions))\n",
    "from sklearn.metrics import homogeneity_score\n",
    "print(homogeneity_score(df.searchstring, all_predictions))"
   ]
  },
  {
   "cell_type": "markdown",
   "metadata": {},
   "source": [
    "very poor results, indicating that different string searches do not produce JD descriptions which are very dissimilar. "
   ]
  },
  {
   "cell_type": "markdown",
   "metadata": {},
   "source": [
    "<div class=\"alert alert-warning\">\n",
    "    5. Runs k-means cluster analysis on 'data analyst' vs 'data scientist' roles to see if there is a difference in job requirements  "
   ]
  },
  {
   "cell_type": "code",
   "execution_count": 77,
   "metadata": {},
   "outputs": [
    {
     "data": {
      "text/plain": [
       "123"
      ]
     },
     "execution_count": 77,
     "metadata": {},
     "output_type": "execute_result"
    }
   ],
   "source": [
    "Xj['jt_data analyst'].sum()"
   ]
  },
  {
   "cell_type": "code",
   "execution_count": 78,
   "metadata": {},
   "outputs": [],
   "source": [
    "y = np.where(Xj['jt_data analyst']==1, 0, None)"
   ]
  },
  {
   "cell_type": "code",
   "execution_count": 79,
   "metadata": {},
   "outputs": [
    {
     "data": {
      "text/plain": [
       "234"
      ]
     },
     "execution_count": 79,
     "metadata": {},
     "output_type": "execute_result"
    }
   ],
   "source": [
    "Xj['jt_data scientist'].sum()"
   ]
  },
  {
   "cell_type": "code",
   "execution_count": 80,
   "metadata": {},
   "outputs": [],
   "source": [
    "y = np.where(Xj['jt_data scientist']==1, 1, y)"
   ]
  },
  {
   "cell_type": "code",
   "execution_count": 84,
   "metadata": {},
   "outputs": [],
   "source": [
    "y = pd.Series(y)\n",
    "temp = pd.concat([Xj, y], axis=1) "
   ]
  },
  {
   "cell_type": "code",
   "execution_count": 85,
   "metadata": {},
   "outputs": [],
   "source": [
    "Xdsda = temp.dropna(subset=[0])\n",
    "ydsda = Xdsda.iloc[:,-1:].values\n",
    "Xdsda = Xdsda.drop(0, axis=1)"
   ]
  },
  {
   "cell_type": "code",
   "execution_count": 86,
   "metadata": {},
   "outputs": [],
   "source": [
    "ydsda = np.reshape(ydsda, (353,))"
   ]
  },
  {
   "cell_type": "code",
   "execution_count": 87,
   "metadata": {},
   "outputs": [],
   "source": [
    "Xdsda.fillna(0, inplace=True)"
   ]
  },
  {
   "cell_type": "code",
   "execution_count": 88,
   "metadata": {},
   "outputs": [
    {
     "data": {
      "text/plain": [
       "KMeans(algorithm='auto', copy_x=True, init='k-means++', max_iter=300,\n",
       "    n_clusters=2, n_init=10, n_jobs=None, precompute_distances='auto',\n",
       "    random_state=60, tol=0.0001, verbose=0)"
      ]
     },
     "execution_count": 88,
     "metadata": {},
     "output_type": "execute_result"
    }
   ],
   "source": [
    "# k = 2 for this run, since there are two classes\n",
    "model = KMeans(n_clusters=2, random_state=60)\n",
    "\n",
    "# Fitting Model\n",
    "model.fit(Xdsda)"
   ]
  },
  {
   "cell_type": "code",
   "execution_count": 89,
   "metadata": {},
   "outputs": [],
   "source": [
    "# Prediction on the entire data - can also use model.labels_\n",
    "all_predictions = model.predict(Xdsda)"
   ]
  },
  {
   "cell_type": "code",
   "execution_count": 90,
   "metadata": {},
   "outputs": [
    {
     "data": {
      "text/plain": [
       "(array([0, 1]), array([231, 122], dtype=int64))"
      ]
     },
     "execution_count": 90,
     "metadata": {},
     "output_type": "execute_result"
    }
   ],
   "source": [
    "np.unique(all_predictions, return_counts=True)"
   ]
  },
  {
   "cell_type": "code",
   "execution_count": 91,
   "metadata": {},
   "outputs": [
    {
     "name": "stdout",
     "output_type": "stream",
     "text": [
      "0.015059117879005676\n",
      "0.015101898241687768\n"
     ]
    }
   ],
   "source": [
    "from sklearn.metrics import completeness_score\n",
    "print(completeness_score(ydsda, all_predictions))\n",
    "\n",
    "from sklearn.metrics import homogeneity_score\n",
    "print(homogeneity_score(ydsda, all_predictions))"
   ]
  },
  {
   "cell_type": "markdown",
   "metadata": {},
   "source": [
    "very poor results, indicating that there is really no difference between the content of JDs for data scientists vis a vis data analyst roles. "
   ]
  },
  {
   "cell_type": "code",
   "execution_count": null,
   "metadata": {},
   "outputs": [],
   "source": []
  }
 ],
 "metadata": {
  "kernelspec": {
   "display_name": "Python 3",
   "language": "python",
   "name": "python3"
  },
  "language_info": {
   "codemirror_mode": {
    "name": "ipython",
    "version": 3
   },
   "file_extension": ".py",
   "mimetype": "text/x-python",
   "name": "python",
   "nbconvert_exporter": "python",
   "pygments_lexer": "ipython3",
   "version": "3.7.0"
  }
 },
 "nbformat": 4,
 "nbformat_minor": 1
}
